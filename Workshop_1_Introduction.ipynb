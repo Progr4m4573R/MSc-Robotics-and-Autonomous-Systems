{
 "cells": [
  {
   "cell_type": "markdown",
   "metadata": {},
   "source": [
    "# AAI Workshop 1\n",
    "## Python installation\n",
    "\n",
    "In the following weeks, we will use Python as default programming language for all our examples and excercises. This is also the language you will use for your assignment.\n",
    "\n",
    "You can download a basic Python environment from the official [website](https://www.python.org/).\n",
    "Alternatively, you can install any IDE that supports the language (e.g. [Spyder](https://www.spyder-ide.org/)).\n",
    "\n",
    "## Tutorial\n",
    "\n",
    "If this is the first time you use Python, a good way to start with it is the official Python [tutorial](https://docs.python.org/3/tutorial/), but you can also check for other sources on the web and in our [library](https://library.lincoln.ac.uk/items?query=python). Don't worry if you are not an expert programmer and if you have not used Python before. We will not expect you to be a proficient coder, but we require you to understand the examples presented during the next lectures/workshops, and to be able to implement the algorithms we study in this module. If you are struggling with Python coding, please seek advise from the lecturers and demonstrators.\n",
    "\n",
    "### A simple example\n",
    "\n",
    "A useful thing to learn for the coming workshops is how to load and print some input data.\n",
    "For example, given the following [dataset.txt](dataset.txt):\n",
    "```\n",
    "Nicola Bellotto, University of Lincoln, UK\n",
    "Simon Parsons, University of Lincoln, UK\n",
    "John Smith, University of Maryland, USA\n",
    "Sarah Connor, University of Cape Town, South Africa\n",
    "George Washington, University of Auckland, New Zealand\n",
    "```\n",
    "we can print its content using the following Python code:"
   ]
  },
  {
   "cell_type": "code",
   "execution_count": 2,
   "metadata": {},
   "outputs": [
    {
     "name": "stdout",
     "output_type": "stream",
     "text": [
      "Nicola Bellotto,  University of Lincoln,  UK\n",
      "Simon Parsons,  University of Lincoln,  UK\n",
      "John Smith,  University of Maryland,  USA\n",
      "Sarah Connor,  University of Cape Town,  South Africa\n",
      "George Washington,  University of Auckland,  New Zealand\n"
     ]
    }
   ],
   "source": [
    "import csv\n",
    "\n",
    "with open('dataset.txt') as csv_file:\n",
    "    csv_reader = csv.reader(csv_file, delimiter = ',')\n",
    "    for row in csv_reader:\n",
    "        print(', '.join(row))\n",
    "        \n"
   ]
  },
  {
   "cell_type": "markdown",
   "metadata": {},
   "source": [
    "Please try this and other examples from the tutorial on your computer.\n",
    "\n",
    "## Book's code repository\n",
    "\n",
    "Most of the examples of the Russell & Norvig's book _\"Artificial Intelligence: A Modern Approach\"_ are available in Python from their official [repository](https://github.com/aimacode/aima-python).\n",
    "\n",
    "You can download the whole repository using [git](https://git-scm.com/):\n",
    "```\n",
    "git clone https://github.com/aimacode/aima-python.git\n",
    "```\n",
    "The directory __aima-python__ contains lots of Python files implementing the algorithms and examples of the book (see this [table](https://github.com/aimacode/aima-python#index-of-algorithms) for details).\n",
    "\n",
    "Something extra you might want to try is the Jupyter Notebook about _\"Chapter 2 - Intelligent Agents\"_ of the book. For this, you need to install either JupyterLab (recommended) or Jupyter Notebook from the official [website](https://jupyter.org/), run it (it will open a tab on your default browser) and then open the file __agents.ipynb__ in the __aima-python__ directory."
   ]
  }
 ],
 "metadata": {
  "kernelspec": {
   "display_name": "Python 3",
   "language": "python",
   "name": "python3"
  },
  "language_info": {
   "codemirror_mode": {
    "name": "ipython",
    "version": 3
   },
   "file_extension": ".py",
   "mimetype": "text/x-python",
   "name": "python",
   "nbconvert_exporter": "python",
   "pygments_lexer": "ipython3",
   "version": "3.8.8"
  }
 },
 "nbformat": 4,
 "nbformat_minor": 4
}
