{
 "cells": [
  {
   "cell_type": "markdown",
   "metadata": {},
   "source": [
    "# AAI Workshop 12\n",
    "<small>(Version 1.0)</small>\n",
    "\n",
    "Below there are 5 examples and one exercise to be completed by the given deadline (read the text).\n",
    "\n",
    "These use the Nashpy package to compute some properties of 2 player games. \n",
    "    "
   ]
  },
  {
   "cell_type": "markdown",
   "metadata": {},
   "source": [
    "---\n",
    "\n",
    "## EXAMPLE 1: An introduction to Nashpy\n",
    "\n",
    "Nashpy is a Python package for handling two player strategic form games (that is games represented in the way we saw in the lecture). Install Nashpy using:\n",
    "\n",
    "<tt>pip install nashpy</tt>\n",
    "\n",
    "Note two things.\n",
    "\n",
    "First, that Nashpy does things that we won't cover in this workshop. The full documentation is here:\n",
    "https://nashpy.readthedocs.io/en/stable/index.html\n",
    "\n",
    "Second, Nashpy is *not* a particularly powerful implementation of a game theory solver. It is designed for teaching. There are much more industrial-level game solvers, but not in pure Python.\n",
    "\n",
    "With those disclaimers out of the way, we can load the package (noting that we also need <tt>numpy</tt>):"
   ]
  },
  {
   "cell_type": "code",
   "execution_count": 1,
   "metadata": {},
   "outputs": [
    {
     "ename": "ModuleNotFoundError",
     "evalue": "No module named 'numpy.typing'",
     "output_type": "error",
     "traceback": [
      "\u001b[1;31m---------------------------------------------------------------------------\u001b[0m",
      "\u001b[1;31mModuleNotFoundError\u001b[0m                       Traceback (most recent call last)",
      "Input \u001b[1;32mIn [1]\u001b[0m, in \u001b[0;36m<module>\u001b[1;34m\u001b[0m\n\u001b[1;32m----> 1\u001b[0m \u001b[38;5;28;01mimport\u001b[39;00m \u001b[38;5;21;01mnashpy\u001b[39;00m \u001b[38;5;28;01mas\u001b[39;00m \u001b[38;5;21;01mnash\u001b[39;00m\n\u001b[0;32m      2\u001b[0m \u001b[38;5;28;01mimport\u001b[39;00m \u001b[38;5;21;01mnumpy\u001b[39;00m \u001b[38;5;28;01mas\u001b[39;00m \u001b[38;5;21;01mnp\u001b[39;00m\n",
      "File \u001b[1;32m~\\AppData\\Local\\Programs\\Python\\Python39\\lib\\site-packages\\nashpy\\__init__.py:2\u001b[0m, in \u001b[0;36m<module>\u001b[1;34m\u001b[0m\n\u001b[0;32m      1\u001b[0m \u001b[38;5;124;03m\"\"\"A library to compute equilibria of 2 player normal form games\"\"\"\u001b[39;00m\n\u001b[1;32m----> 2\u001b[0m \u001b[38;5;28;01mfrom\u001b[39;00m \u001b[38;5;21;01m.\u001b[39;00m\u001b[38;5;21;01mgame\u001b[39;00m \u001b[38;5;28;01mimport\u001b[39;00m Game\n\u001b[0;32m      4\u001b[0m __version__ \u001b[38;5;241m=\u001b[39m \u001b[38;5;124m\"\u001b[39m\u001b[38;5;124m0.0.28\u001b[39m\u001b[38;5;124m\"\u001b[39m\n",
      "File \u001b[1;32m~\\AppData\\Local\\Programs\\Python\\Python39\\lib\\site-packages\\nashpy\\game.py:3\u001b[0m, in \u001b[0;36m<module>\u001b[1;34m\u001b[0m\n\u001b[0;32m      1\u001b[0m \u001b[38;5;124;03m\"\"\"A class for a normal form game\"\"\"\u001b[39;00m\n\u001b[0;32m      2\u001b[0m \u001b[38;5;28;01mimport\u001b[39;00m \u001b[38;5;21;01mnumpy\u001b[39;00m \u001b[38;5;28;01mas\u001b[39;00m \u001b[38;5;21;01mnp\u001b[39;00m\n\u001b[1;32m----> 3\u001b[0m \u001b[38;5;28;01mimport\u001b[39;00m \u001b[38;5;21;01mnumpy\u001b[39;00m\u001b[38;5;21;01m.\u001b[39;00m\u001b[38;5;21;01mtyping\u001b[39;00m \u001b[38;5;28;01mas\u001b[39;00m \u001b[38;5;21;01mnpt\u001b[39;00m\n\u001b[0;32m      4\u001b[0m \u001b[38;5;28;01mfrom\u001b[39;00m \u001b[38;5;21;01mtyping\u001b[39;00m \u001b[38;5;28;01mimport\u001b[39;00m Any\n\u001b[0;32m      5\u001b[0m \u001b[38;5;28;01mfrom\u001b[39;00m \u001b[38;5;21;01m.\u001b[39;00m\u001b[38;5;21;01malgorithms\u001b[39;00m\u001b[38;5;21;01m.\u001b[39;00m\u001b[38;5;21;01mlemke_howson\u001b[39;00m \u001b[38;5;28;01mimport\u001b[39;00m lemke_howson\n",
      "\u001b[1;31mModuleNotFoundError\u001b[0m: No module named 'numpy.typing'"
     ]
    }
   ],
   "source": [
    "import nashpy as nash\n",
    "import numpy as np"
   ]
  },
  {
   "cell_type": "markdown",
   "metadata": {},
   "source": [
    "Then we can create the example that I asked you to solve in the lecture:"
   ]
  },
  {
   "cell_type": "code",
   "execution_count": 2,
   "metadata": {},
   "outputs": [
    {
     "name": "stdout",
     "output_type": "stream",
     "text": [
      "Bi matrix game with payoff matrices:\n",
      "\n",
      "Row player:\n",
      "[[2 3]\n",
      " [3 2]]\n",
      "\n",
      "Column player:\n",
      "[[1 4]\n",
      " [2 3]]\n"
     ]
    }
   ],
   "source": [
    "# Payoff for row player:\n",
    "A = np.array([[2, 3], [3, 2]])\n",
    "# Payoff for column player:\n",
    "B = np.array([[1, 4], [2, 3]])\n",
    "# Put them together to get a game:\n",
    "ex = nash.Game(A, B)\n",
    "# And check this is what we intended:\n",
    "print(ex)"
   ]
  },
  {
   "cell_type": "markdown",
   "metadata": {},
   "source": [
    "Nashpy then allows you to pick particular actions choices for each player, and report the utility of the resulting outcome:"
   ]
  },
  {
   "cell_type": "code",
   "execution_count": 9,
   "metadata": {},
   "outputs": [
    {
     "name": "stdout",
     "output_type": "stream",
     "text": [
      "utility of : [1 0] [0 1]\n",
      "[3 4]\n"
     ]
    }
   ],
   "source": [
    "# A strategy for the row player is to play the first row:\n",
    "s_r = np.array([1, 0])\n",
    "# Pure strategy for the column player is to play the second column:\n",
    "s_c = np.array([0, 1])\n",
    "print(\"utility of :\", s_r, s_c)\n",
    "print(ex[s_r, s_c])\n"
   ]
  },
  {
   "cell_type": "markdown",
   "metadata": {},
   "source": [
    "The strategies are arrays to allow the representation of mixed strategies. (These are the probabilities of playing each strategy.)\n",
    "\n",
    "Finally, Nashpy allows you to compute the Nash Equilibrium for the game. There are a few ways to do this (see the documentation), but we'll stick to this method:"
   ]
  },
  {
   "cell_type": "code",
   "execution_count": 10,
   "metadata": {},
   "outputs": [
    {
     "name": "stdout",
     "output_type": "stream",
     "text": [
      "equilibrium row move: [1. 0.]\n",
      "equilibrium column move: [0. 1.]\n",
      "equilibrium outcome: [3. 4.]\n"
     ]
    }
   ],
   "source": [
    "equilibria = ex.support_enumeration()\n",
    "for eq in equilibria:\n",
    "    print(\"equilibrium row move:\", eq[0])\n",
    "    print(\"equilibrium column move:\", eq[1])\n",
    "    print(\"equilibrium outcome:\", ex[eq[0], eq[1]])"
   ]
  },
  {
   "cell_type": "markdown",
   "metadata": {},
   "source": [
    "Finally, note that we can use extend Nashpy to generate code for other solution concepts (see below)."
   ]
  },
  {
   "cell_type": "markdown",
   "metadata": {},
   "source": [
    "---\n",
    "\n",
    "## EXAMPLE 2: Prisoner's dilemma\n",
    "\n",
    "We discussed the Prisoner's dilemma in the lecture.\n",
    "\n",
    "The option to confess is tradiitonally known as \"defect\" or $D$. The option to keep silent and not confess is traditionally known as \"cooperate\" or $C$. In this sense, both cooperating is the \"obvious\" thing to do. Except that if one defects and the other cooperates, the defector will get the best possible result...\n",
    "\n",
    "We can encode this in Nashpy as:"
   ]
  },
  {
   "cell_type": "code",
   "execution_count": 3,
   "metadata": {},
   "outputs": [],
   "source": [
    "APD = np.array([[2, 4], [1, 3]])\n",
    "BPD = np.array([[2, 1], [4, 3]])"
   ]
  },
  {
   "cell_type": "markdown",
   "metadata": {},
   "source": [
    "where the first action is $D$ and the second action is $C$. The numbers are <b>not</b> the years served, but utilities reflecting the sentences (i.e. higher utility = shorter sentence)."
   ]
  },
  {
   "cell_type": "markdown",
   "metadata": {},
   "source": [
    "---\n",
    "\n",
    "## EXAMPLE 3: The stag hunt\n",
    "\n",
    " Another well studied game is the Stag Hunt. Here is the story which describes what it captures:\n",
    "  \n",
    "   A group of hunters goes stag hunting.\n",
    "   If they all stay focussed on the stag, they will catch it and all\n",
    "   have a lot of food.\n",
    "   If some of them head off to catch rabbits, the stag will escape. \n",
    "   In this case the rabbit hunters will have some small amount of food\n",
    "   and the (remaining) stag hunters will go hungry.\n",
    "   What should each hunter do?\n",
    "  \n",
    "  As a two player game (two hunters, each of which can choose between\n",
    "  $R$abbit and $S$tag) this is:"
   ]
  },
  {
   "cell_type": "code",
   "execution_count": 4,
   "metadata": {},
   "outputs": [],
   "source": [
    "ASH = np.array([[2, 3], [1, 4]])\n",
    "BSH = np.array([[2, 1], [3, 4]])"
   ]
  },
  {
   "cell_type": "markdown",
   "metadata": {},
   "source": [
    "where the first action is R and the second is S.\n",
    "\n",
    "Note that $S$ is often interpreted as \"cooperate\" in the Prisoner's dilemma sense, and $R$ as \"defect\". In that sense, mutual cooperation (both hunters choose $S$) is the best outcome.\n",
    "\n",
    "What is the Nash equilibrium in this case? \n",
    "\n",
    "How does it compare with the Nash equilibrium in the Prisoner's dilemma?\n",
    "\n",
    "---\n",
    "## EXAMPLE 4: Chicken\n",
    "\n",
    "A final standard example is Chicken. \n",
    "\n",
    "The game is played by both players driving their cars\n",
    "at high speed towards a cliff. The idea is that the least brave of the\n",
    "two (the \"chicken'') will be the first to drop out of the game by\n",
    "jumping out of the speeding car. The winner is the one who lasts\n",
    "longest in the car. Of course, if\n",
    "neither player jumps out of the car, then both cars fly off the\n",
    "cliff, taking their foolish passengers to a fiery death on the rocks\n",
    "that undoubtedly lie at the foot of the cliff.\n",
    "\n",
    "We can encode this as a two person game in which both players choose between Drive and Jump:"
   ]
  },
  {
   "cell_type": "code",
   "execution_count": 6,
   "metadata": {},
   "outputs": [],
   "source": [
    "ACH = np.array([[1, 4], [1, 3]])\n",
    "BCH = np.array([[1, 2], [4, 3]])"
   ]
  },
  {
   "cell_type": "markdown",
   "metadata": {},
   "source": [
    "Where the first action is D and the second is J.\n",
    "\n",
    "What is the Nash equilibrium for Chicken? \n",
    "\n",
    "How does it compare with the Nash equilibria for the Prisoner's Dilemma and the Stag Hunt?\n",
    "\n",
    "---\n",
    "\n",
    "## EXAMPLE 5: Social welfare\n",
    "\n",
    "We can compute other solution concepts. For example, the following function computes the outcome with the maximum social welfare.\n",
    "\n",
    "I'm not claiming that this is elegant, or completely general, but it gets the job done for simple games. I'm sure you can do better."
   ]
  },
  {
   "cell_type": "code",
   "execution_count": 1,
   "metadata": {},
   "outputs": [],
   "source": [
    "# Compute the outcome that maximises social welfare of the game it is passed. \n",
    "# Returns a list of arrays each representing the pure strategy of one of the players.\n",
    "def socialOutcome(aGame):\n",
    "    # Grab the payoff matrices\n",
    "    PMatrices = aGame.payoff_matrices\n",
    "    # We know that there are two, one for the row player, one for the\n",
    "    # column player.\n",
    "    R = np.array(PMatrices[0])\n",
    "    C = np.array(PMatrices[1])\n",
    "    # Create a matrix to hold the sum of the utilities\n",
    "    sum = R\n",
    "    # Instantiate that matrix\n",
    "    # Number of rows\n",
    "    for i in range(len(R)):\n",
    "        # Number of columns\n",
    "        for j in range(len(R[0])):\n",
    "            sum[i][j] = R[i][j] + C[i][j]\n",
    "       \n",
    "    # Identify the maximum element\n",
    "    maxValue = np.amax(sum)\n",
    "    # Find the location of the maximum element:\n",
    "    coordList = np.where(sum == maxValue)\n",
    "    sWOutcome = []\n",
    "    # Turn that set of coordinates into a list\n",
    "    for i in range(len(coordList)):\n",
    "        sWOutcome.append(coordList[i][0])\n",
    "    row = sWOutcome[0]\n",
    "    column = sWOutcome[1]\n",
    "\n",
    "    # Now convert the outcome into the array format used by Nashpy \n",
    "    rStrat=[]\n",
    "    for i in range(len(R)):\n",
    "        if i == row:\n",
    "            rStrat.append(1)\n",
    "        else:\n",
    "            rStrat.append(0)\n",
    "    rStratA = np.array(rStrat)\n",
    "\n",
    "    cStrat=[]\n",
    "    for i in range(len(R[0])):\n",
    "        if i == column:\n",
    "            cStrat.append(1)\n",
    "        else:\n",
    "            cStrat.append(0)\n",
    "    cStratA = np.array(cStrat)\n",
    "\n",
    "    return [rStratA, cStratA]"
   ]
  },
  {
   "cell_type": "markdown",
   "metadata": {},
   "source": [
    "We can then use this function rather like the Nash equilibrium function, though it is not a method \n",
    "of the game class, but something called on a game instance:"
   ]
  },
  {
   "cell_type": "code",
   "execution_count": 6,
   "metadata": {},
   "outputs": [
    {
     "name": "stdout",
     "output_type": "stream",
     "text": [
      "Maximising social welfare\n",
      "Row strategy: [1 0]\n",
      "Column strategy: [0 1]\n",
      "Outcome: [3 4]\n"
     ]
    }
   ],
   "source": [
    "social = socialOutcome(ex)\n",
    "print(\"Maximising social welfare\")\n",
    "print(\"Row strategy:\", social[0])\n",
    "print(\"Column strategy:\", social[1])\n",
    "print(\"Outcome:\", ex[social[0], social[1]])"
   ]
  },
  {
   "cell_type": "markdown",
   "metadata": {},
   "source": [
    "In this case, the Nash equilibrium outcome is the one that maximises social welfare.\n",
    "\n",
    "What are the outcomes of the Prisoner's Dilemma, Stag Hunt and Chicken that maximise social welfare?\n",
    "\n",
    "How do these outcomes differ from the Nash equilibrium outcomes?"
   ]
  },
  {
   "cell_type": "markdown",
   "metadata": {},
   "source": [
    "---\n",
    "\n",
    "## EXERCISE\n",
    "\n",
    "Now use Nashpy to a) compute the Pareto optimal outcome(s) for a game; and b) compute any dominated strategies.\n",
    "\n",
    "Use your code to check the answers you gave to the example game (the one I called <tt>ex</tt> above) in the lecture, and then compute the Pareto optimal outcome(s) and any dominated strategies for the Prisoner's Dilemma, the Stag Hunt, and Chicken.\n",
    "\n",
    "Write a short document (PDF, max 1 page) or Jupyter Notebook file (preferred) describing your solution and send \n",
    "it to **sparsons@lincoln.ac.uk** with subject *AAI Workshop 12 - NAME SURNAME*. Please submit your work by the \n",
    "<u>4th February 2022</u>. **It will not be graded, but only used by the lecturer to check the progress of the class**."
   ]
  }
 ],
 "metadata": {
  "kernelspec": {
   "display_name": "Python 3 (ipykernel)",
   "language": "python",
   "name": "python3"
  },
  "language_info": {
   "codemirror_mode": {
    "name": "ipython",
    "version": 3
   },
   "file_extension": ".py",
   "mimetype": "text/x-python",
   "name": "python",
   "nbconvert_exporter": "python",
   "pygments_lexer": "ipython3",
   "version": "3.9.7"
  }
 },
 "nbformat": 4,
 "nbformat_minor": 4
}
