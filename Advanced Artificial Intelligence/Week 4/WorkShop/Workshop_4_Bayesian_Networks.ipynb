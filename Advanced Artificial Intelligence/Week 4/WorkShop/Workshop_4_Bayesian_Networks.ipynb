{
 "cells": [
  {
   "cell_type": "markdown",
   "metadata": {},
   "source": [
    "# AAI Workshop 4\n",
    "\n",
    "## EXAMPLE: Sampling from a probability distribution\n",
    "\n",
    "All the algorithms for approximate inference with Bayesian Networks require a method for sampling from a known probability distribution.\n",
    "\n",
    "Let's see a possible implementation of such sampling method in case of Boolean variables and known CPTs:"
   ]
  },
  {
   "cell_type": "code",
   "execution_count": 1,
   "metadata": {},
   "outputs": [],
   "source": [
    "import numpy as np\n",
    "import random as rnd\n",
    "\n",
    "t, f = 0, 1\n",
    "\n",
    "def samplegen(Pdist, Parents = []):\n",
    "\tassert len(Parents) < len(Pdist.shape)\n",
    "\tif rnd.random() < Pdist[t][tuple(Parents)]:\n",
    "\t\treturn t\n",
    "\treturn f"
   ]
  },
  {
   "cell_type": "markdown",
   "metadata": {},
   "source": [
    "The input of this funtion is a probability distribution **Pdist** with the content of the CPT and, if available, the values of the **Parents** events.\n",
    "\n",
    "Let's generate some samples from the Sprinkler network:\n",
    "\n",
    "![Sprinkler example](sprinkler_dag_new.jpg)\n",
    "\n",
    "In particular, let's say we want to generate 20 samples from the $Cloudy$ distribution, ${\\bf P}(C)$, which has no parents:"
   ]
  },
  {
   "cell_type": "code",
   "execution_count": 2,
   "metadata": {},
   "outputs": [
    {
     "name": "stdout",
     "output_type": "stream",
     "text": [
      "C =  TRUE\n",
      "C =  TRUE\n",
      "C =  TRUE\n",
      "C =  TRUE\n",
      "C =  FALSE\n",
      "C =  FALSE\n",
      "C =  TRUE\n",
      "C =  TRUE\n",
      "C =  TRUE\n",
      "C =  FALSE\n",
      "C =  FALSE\n",
      "C =  TRUE\n",
      "C =  TRUE\n",
      "C =  FALSE\n",
      "C =  TRUE\n",
      "C =  TRUE\n",
      "C =  TRUE\n",
      "C =  FALSE\n",
      "C =  FALSE\n",
      "C =  TRUE\n"
     ]
    }
   ],
   "source": [
    "P_C = np.array([0.5, 0.5])\n",
    "\n",
    "for i in range(20):\n",
    "    s = samplegen(P_C)\n",
    "    print(\"C = \", 'TRUE' if s == t else 'FALSE')"
   ]
  },
  {
   "cell_type": "markdown",
   "metadata": {},
   "source": [
    "As expected, there are approximately 50% $true$ and 50% $false$ outcomes.\n",
    "\n",
    "Let's sample from a conditional distribution, for example ${\\bf P}(R | \\neg c)$:"
   ]
  },
  {
   "cell_type": "code",
   "execution_count": 3,
   "metadata": {},
   "outputs": [
    {
     "name": "stdout",
     "output_type": "stream",
     "text": [
      "R =  FALSE\n",
      "R =  FALSE\n",
      "R =  FALSE\n",
      "R =  FALSE\n",
      "R =  FALSE\n",
      "R =  FALSE\n",
      "R =  FALSE\n",
      "R =  FALSE\n",
      "R =  FALSE\n",
      "R =  FALSE\n",
      "R =  FALSE\n",
      "R =  FALSE\n",
      "R =  FALSE\n",
      "R =  FALSE\n",
      "R =  FALSE\n",
      "R =  FALSE\n",
      "R =  FALSE\n",
      "R =  TRUE\n",
      "R =  FALSE\n",
      "R =  FALSE\n"
     ]
    }
   ],
   "source": [
    "P_R_C = np.array([[0.8, 0.1],[0.2, 0.9]])\n",
    "\n",
    "for i in range(20):\n",
    "    s = samplegen(P_R_C, [f])\n",
    "    print(\"R = \", 'TRUE' if s == t else 'FALSE')"
   ]
  },
  {
   "cell_type": "markdown",
   "metadata": {},
   "source": [
    "In this case there are many more $false$ than $true$ outcomes because ${\\bf P}(R | \\neg c) = \\langle 0.1, 0.9\\rangle$.\n",
    "\n",
    "Finally, let's sample ${\\bf P}(G | \\neg s, r) = \\langle 0.9, 0.1\\rangle$:"
   ]
  },
  {
   "cell_type": "code",
   "execution_count": 4,
   "metadata": {},
   "outputs": [
    {
     "name": "stdout",
     "output_type": "stream",
     "text": [
      "G =  TRUE\n",
      "G =  FALSE\n",
      "G =  TRUE\n",
      "G =  TRUE\n",
      "G =  TRUE\n",
      "G =  TRUE\n",
      "G =  TRUE\n",
      "G =  TRUE\n",
      "G =  TRUE\n",
      "G =  TRUE\n",
      "G =  TRUE\n",
      "G =  TRUE\n",
      "G =  TRUE\n",
      "G =  TRUE\n",
      "G =  TRUE\n",
      "G =  TRUE\n",
      "G =  TRUE\n",
      "G =  TRUE\n",
      "G =  TRUE\n",
      "G =  TRUE\n"
     ]
    }
   ],
   "source": [
    "P_G_SR = np.array([[[0.95, 0.9],[0.9, 0.1]],[[0.05, 0.1],[0.1, 0.9]]])\n",
    "\n",
    "for i in range(20):\n",
    "    s = samplegen(P_G_SR, [f, t])\n",
    "    print(\"G = \", 'TRUE' if s == t else 'FALSE')"
   ]
  },
  {
   "cell_type": "markdown",
   "metadata": {},
   "source": [
    "Even in this case, the samples are more or less as expected, about 90% $true$ and 10% $false$.\n",
    "\n",
    "## EXAMPLE: Prior-Sampling\n",
    "\n",
    "Let's implement now the *Prior Sampling* algorithm (see the lecture slides of *Bayesian Networks II* or Chapter 14 of Russell & Norvig's book), starting with some data structures to represent the Sprinkler network:"
   ]
  },
  {
   "cell_type": "code",
   "execution_count": 5,
   "metadata": {},
   "outputs": [],
   "source": [
    "# some of these distributions were already defined before, but we repeate them just in case\n",
    "P_C = np.array([0.5, 0.5])\n",
    "P_S_C = np.array([[0.1, 0.5],[0.9, 0.5]])\n",
    "P_R_C = np.array([[0.8, 0.1],[0.2, 0.9]])\n",
    "P_G_SR = np.array([[[0.95, 0.9],[0.9, 0.1]],[[0.05, 0.1],[0.1, 0.9]]])\n",
    "\n",
    "# network variables...\n",
    "var = ['C','S','R','G']\n",
    "# their distributions...\n",
    "prd = {'C':P_C, 'S':P_S_C, 'R':P_R_C, 'G':P_G_SR}\n",
    "# their parents...\n",
    "par = {'C':[], 'S':['C'], 'R':['C'], 'G':['S','R']}\n",
    "# and their initial values\n",
    "val = {'C':f, 'S':f, 'R':f, 'G':f}\n"
   ]
  },
  {
   "cell_type": "markdown",
   "metadata": {},
   "source": [
    "Let's define also a function to retrieve the values of the parents of a variable:"
   ]
  },
  {
   "cell_type": "code",
   "execution_count": 6,
   "metadata": {},
   "outputs": [],
   "source": [
    "def parents(X):\n",
    "\treturn [val[i] for i in par[X]]"
   ]
  },
  {
   "cell_type": "markdown",
   "metadata": {},
   "source": [
    "The following algorithm generates 1000 events from the Sprinkler network:"
   ]
  },
  {
   "cell_type": "code",
   "execution_count": 7,
   "metadata": {},
   "outputs": [
    {
     "name": "stdout",
     "output_type": "stream",
     "text": [
      "First randomly generated event =  ['t', 'f', 't', 't']\n",
      "Number or randomly generated events =  1000\n"
     ]
    }
   ],
   "source": [
    "event = []\n",
    "\n",
    "for n in range(1000):\n",
    "\tfor x in var:\n",
    "\t\tval[x] = samplegen(prd[x], parents(x))\n",
    "\tevent.append(['f' if val[x] else 't' for x in var])\n",
    "\n",
    "print(\"First randomly generated event = \", event[0])\n",
    "print(\"Number or randomly generated events = \", len(event))"
   ]
  },
  {
   "cell_type": "markdown",
   "metadata": {},
   "source": [
    "Finally, we can compute the probability of any event by counting the number of times it was generated and normalising. For example, we can verify that $P(c, \\neg s, r, g) = 0.324 \\approx \\dfrac{N_{PS}(c, \\neg s, r, g)}{N} = {\\hat P}(c, \\neg s, r, g)$, as predicted in the lecture:"
   ]
  },
  {
   "cell_type": "code",
   "execution_count": 8,
   "metadata": {},
   "outputs": [
    {
     "name": "stdout",
     "output_type": "stream",
     "text": [
      "P(c,¬s,r,g) =  0.318\n"
     ]
    }
   ],
   "source": [
    "P_query = event.count(['t', 'f', 't', 't']) / len(event)\n",
    "print(\"P(c,¬s,r,g) = \", P_query)"
   ]
  },
  {
   "cell_type": "markdown",
   "metadata": {},
   "source": [
    "which is indeed very close to the exact probability!\n",
    "\n",
    "---\n",
    "\n",
    "## EXERCISE: Burglary network\n",
    "\n",
    "Implement the *Prior Sampling* algorithm to do approximate inference on last week's Burglary network.\n",
    "\n",
    "![Burglary example](burglary_dag.jpg)\n",
    "\n",
    "Verify that the algorithm can correctly approximate the probability $P(j, m, a, \\neg b, \\neg e) = 0.00063$\n",
    "\n",
    "Try different numbers of samples (e.g. $N = 10, 100, 1000, 10000$) and compare the results.\n",
    "\n",
    "---\n",
    "\n",
    "## EXERCISE (optional)\n",
    "\n",
    "Try to implement one of the following algorithms (see the pseudocode in the lecture's slides or the book):\n",
    "- *Rejection Sampling*\n",
    "- *Likelihood Weighting*\n",
    "- *Gibbs Sampling*\n",
    "\n",
    "Use your program to do approximate inference on the Sprinkler network and verify that ${\\hat P}(c, \\neg s, r, g) \\approx 0.324$ and ${\\hat P}(g | r, c) \\approx 0.905$.\n",
    "\n",
    "---\n",
    "\n",
    "Write a short document (PDF, max 2 pages) or Jupyter Notebook file (preferred) describing your solution(s) and send it to **nbellotto@lincoln.ac.uk** with subject *AAI Workshop 4 - NAME SURNAME*. Please submit your work by the <u>15th Nov 2021</u>. **It will not be graded, but only used by the lecturer to check the progress of the class**."
   ]
  }
 ],
 "metadata": {
  "kernelspec": {
   "display_name": "Python 3 (ipykernel)",
   "language": "python",
   "name": "python3"
  },
  "language_info": {
   "codemirror_mode": {
    "name": "ipython",
    "version": 3
   },
   "file_extension": ".py",
   "mimetype": "text/x-python",
   "name": "python",
   "nbconvert_exporter": "python",
   "pygments_lexer": "ipython3",
   "version": "3.9.7"
  }
 },
 "nbformat": 4,
 "nbformat_minor": 4
}
