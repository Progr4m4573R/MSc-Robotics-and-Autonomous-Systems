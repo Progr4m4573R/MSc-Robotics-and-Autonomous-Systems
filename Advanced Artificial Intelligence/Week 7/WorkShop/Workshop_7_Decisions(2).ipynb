{
 "cells": [
  {
   "cell_type": "markdown",
   "metadata": {},
   "source": [
    "# AAI Workshop 7\n",
    "<small>(Version 1.0)</small>\n",
    "\n",
    "Below there are two examples and one exercise to be completed by the given deadline (read the text).\n",
    "\n",
    "---\n",
    "\n",
    "## EXAMPLE 1: Time for coffee?\n",
    "For this example we're going to imagine that the COVID-19 pandemic is over, and that coffee shops still exist.\n",
    "\n",
    "I have half an hour to spare in my busy schedule, and I have a choice between working quietly in my office and\n",
    "going out for a coffee.\n",
    "\n",
    "If I stay in my office, three things can happen: I can get some work done (Utility = 8), or I can get distracted\n",
    "looking at the latest news on US politics (Utility = 1), or a colleague might stop by to talk about some\n",
    "work we are doing on revising the curriculum (Utility = 5).\n",
    "\n",
    "If I go out for coffee, I will most likely enjoy a good cup of smooth caffienation (Utility = 10), but there is\n",
    "also a chance I will end up spilling coffee all over myself (Utility = −20).\n",
    "\n",
    "The probability of getting work done if I choose to stay in the office is 0.5, while the probabilities of getting\n",
    "distracted, and a colleague stopping by are 0.3 and 0.2 respectively.\n",
    "\n",
    "If I go out for a coffee, my chance of enjoying my beverage is 0.95, and the chance of spilling my drink is 0.05.\n",
    "\n",
    "\n",
    "> __QUESTION 1(a):__ What is the expected utility of staying in my office?\n",
    "    \n",
    "> __QUESTION 1(b):__ What is the expected utility of going out for a coffee?\n",
    "\n",
    "> __QUESTION 1(c):__ By the principle of maximum expected utility, what should I do?\n",
    "    \n",
    "### Solution 1(a)\n",
    "\n",
    "Staying in the $office$ means that I will either $work$, get $distracted$, or talk with a $colleague$. These states \n",
    "have the following utilities:\n",
    "\\begin{align*}\n",
    "U(work) & = 8\\\\\n",
    "U(distracted) & = 1\\\\\n",
    "U(colleague) & = 5\n",
    "\\end{align*}\n",
    "and the probabilities of these happening, given I stay in the $office$ are:\n",
    "\\begin{align*}\n",
    "P(work|office) & = 0.5\\\\\n",
    "P(distracted|office) & = 0.3\\\\\n",
    "P(colleague|office) & = 0.2\n",
    "\\end{align*}\n",
    "Let's declare these as Python arrays"
   ]
  },
  {
   "cell_type": "code",
   "execution_count": 1,
   "metadata": {},
   "outputs": [
    {
     "name": "stdout",
     "output_type": "stream",
     "text": [
      "office_outcomes =  ['work', 'distracted', 'colleague']\n",
      "U(office_outcomes) =  [8 1 5]\n",
      "P(office_outcomes|office) = [0.5 0.3 0.2]\n"
     ]
    }
   ],
   "source": [
    "import numpy as np\n",
    "# Setup arrays with: symbolic names for outcomes (not currently used), utilities of outcomes, and \n",
    "# probabililites of those outcomes\n",
    "office_outcomes = [\"work\", \"distracted\", \"colleague\"] \n",
    "print('office_outcomes = ', office_outcomes)\n",
    "u_office_outcomes = np.array([8, 1, 5]) \n",
    "print('U(office_outcomes) = ', u_office_outcomes) \n",
    "p_office_outcomes_office = np.array([0.5, 0.3, 0.2]) \n",
    "print('P(office_outcomes|office) =', p_office_outcomes_office)\n"
   ]
  },
  {
   "cell_type": "markdown",
   "metadata": {},
   "source": [
    "<br>\n",
    "The expected utility of staying in the office is:\n",
    "    \\begin{align*}\n",
    "      EU(office) & = 0.5\\times 8 + 0.3\\times 1 + 0.2\\times 5\\\\\n",
    "                 & = 5.3\n",
    "    \\end{align*}\n",
    "    \n",
    "Now let's implement this in Python:"
   ]
  },
  {
   "cell_type": "code",
   "execution_count": 2,
   "metadata": {},
   "outputs": [
    {
     "name": "stdout",
     "output_type": "stream",
     "text": [
      "EU by outcome = [4.  0.3 1. ]\n",
      "EU(office) =  5.3\n"
     ]
    }
   ],
   "source": [
    "# The weighted utility ofeach outcome is each to compute by pairwise multiplication\n",
    "eu_office_outcomes = u_office_outcomes * p_office_outcomes_office\n",
    "print('EU by outcome =', eu_office_outcomes)\n",
    "# Summing the weighted utilities gets us the expected utility\n",
    "eu_office = np.sum(eu_office_outcomes)\n",
    "print('EU(office) = ', eu_office)"
   ]
  },
  {
   "cell_type": "markdown",
   "metadata": {},
   "source": [
    "So the expected utility of staying in the office is 5.3"
   ]
  },
  {
   "cell_type": "markdown",
   "metadata": {},
   "source": [
    "### Solution 1(b)\n",
    "\n",
    "This time, we'll jump straight to the Python code, using the same notation as before"
   ]
  },
  {
   "cell_type": "code",
   "execution_count": 3,
   "metadata": {},
   "outputs": [
    {
     "name": "stdout",
     "output_type": "stream",
     "text": [
      "coffee_outcomes =  ['caffination', 'spillage', 'cold']\n",
      "U(coffee_outcomes) =  [8 1 5]\n",
      "P(coffee_outcomes|coffee) = [0.75 0.05 0.2 ]\n",
      "\n",
      "\n",
      "EU by outcome = [ 7.5 -1.  -1. ]\n",
      "EU(coffee) =  5.5\n"
     ]
    }
   ],
   "source": [
    "# The coffee calculation is the same as the office calculation, first set up arrays\n",
    "coffee_outcomes = [\"caffination\", \"spillage\", \"cold\"] \n",
    "print('coffee_outcomes = ', coffee_outcomes)\n",
    "u_coffee_outcomes = np.array([10, -20, -5]) \n",
    "print('U(coffee_outcomes) = ', u_office_outcomes) \n",
    "p_coffee_outcomes_coffee = np.array([0.75, 0.05, 0.2]) \n",
    "print('P(coffee_outcomes|coffee) =', p_coffee_outcomes_coffee)\n",
    "print('\\n')\n",
    "# Then compute the expected utility\n",
    "eu_coffee_outcomes = u_coffee_outcomes * p_coffee_outcomes_coffee\n",
    "print('EU by outcome =', eu_coffee_outcomes)\n",
    "eu_coffee = np.sum(eu_coffee_outcomes)\n",
    "print('EU(coffee) = ', eu_coffee)"
   ]
  },
  {
   "cell_type": "markdown",
   "metadata": {},
   "source": [
    "So the expected utility of going out for coffee is 8.5"
   ]
  },
  {
   "cell_type": "markdown",
   "metadata": {},
   "source": [
    "### Solution 1(c)\n",
    "\n",
    "The MEU criterion is that the option with the maximum expected utility is the one chosen. Clearly in the case of\n",
    "numbers in the example, the option of going out for $coffee$ is the one with the maximum expected utility. \n",
    "\n",
    "However, we will also program it in Python so that we can see what happens as the probabilities of the outcomes \n",
    "vary:"
   ]
  },
  {
   "cell_type": "code",
   "execution_count": 4,
   "metadata": {},
   "outputs": [
    {
     "name": "stdout",
     "output_type": "stream",
     "text": [
      "Coffee is the MEU choice\n"
     ]
    }
   ],
   "source": [
    "if eu_office > eu_coffee:\n",
    "    print('Office is the MEU choice')\n",
    "else: \n",
    "    print('Coffee is the MEU choice')"
   ]
  },
  {
   "cell_type": "markdown",
   "metadata": {},
   "source": [
    "See what happens if the probability of me spilling my coffee increases to 20%"
   ]
  },
  {
   "cell_type": "markdown",
   "metadata": {},
   "source": [
    "---\n",
    "\n",
    "## EXAMPLE 2: Alternative decision criteria\n",
    "\n",
    "Revisit the decision for the coffee example using the maximax and maximin decision criteria\n",
    "\n",
    "### Solution 2\n",
    "\n",
    "The maximax decision criterion rates each choice by the utility of its best outcome (that is the second max),\n",
    "and then picks the choice with best utility (that is the first max).\n",
    "\n",
    "In Python we would do this calculation as follows"
   ]
  },
  {
   "cell_type": "code",
   "execution_count": 5,
   "metadata": {},
   "outputs": [
    {
     "name": "stdout",
     "output_type": "stream",
     "text": [
      "MaxU(office) = 8\n",
      "MaxU(coffee) = 10\n",
      "\n",
      "\n",
      "Coffee is the Maximax choice\n"
     ]
    }
   ],
   "source": [
    "# The utility of each choice is the max utility of their outcomes\n",
    "max_u_office = np.max(u_office_outcomes)\n",
    "print('MaxU(office) =', max_u_office)\n",
    "max_u_coffee = np.max(u_coffee_outcomes)\n",
    "print('MaxU(coffee) =', max_u_coffee)\n",
    "print('\\n')\n",
    "# The decision criterion is then to pick the outcome with the highest utility:\n",
    "if max_u_office > max_u_coffee:\n",
    "    print('Office is the Maximax choice')\n",
    "else: \n",
    "    print('Coffee is the Maximax choice')"
   ]
  },
  {
   "cell_type": "markdown",
   "metadata": {},
   "source": [
    "The maximin decision criterion rates each choice by the utility of its worst outcome (that is the min), and then\n",
    "picks the choice with the best utility (that is the max).\n",
    "\n",
    "In Python:"
   ]
  },
  {
   "cell_type": "code",
   "execution_count": 6,
   "metadata": {},
   "outputs": [
    {
     "name": "stdout",
     "output_type": "stream",
     "text": [
      "MinU(office) = 1\n",
      "MinU(coffee) = -20\n",
      "\n",
      "\n",
      "Office is the Minimax choice\n"
     ]
    }
   ],
   "source": [
    "# The utility of each choice is the max utility of their outcomes\n",
    "min_u_office = np.min(u_office_outcomes)\n",
    "print('MinU(office) =', min_u_office)\n",
    "min_u_coffee = np.min(u_coffee_outcomes)\n",
    "print('MinU(coffee) =', min_u_coffee)\n",
    "print('\\n')\n",
    "# The decision criterion is then to pick the outcome with the highest utility:\n",
    "if min_u_office > min_u_coffee:\n",
    "    print('Office is the Minimax choice')\n",
    "else: \n",
    "    print('Coffee is the Minimax choice')"
   ]
  },
  {
   "cell_type": "markdown",
   "metadata": {},
   "source": [
    "---\n",
    "\n",
    "## EXERCISE: What to do at the airport?\n",
    "\n",
    "You are travelling and have some time to kill at the aiport. There are three things you could spend your time doing:\n",
    "  \n",
    "1) You could have a coffee.\n",
    "\n",
    "This has a probability of $0.8$ of giving you time to relax with a tasty beverage, and a utility of $10$. \n",
    "It also has a probability of $0.2$ of providing you with a nasty cup from over-roasted beans that annoys you,\n",
    "and outcome with a utility of $-5$.\n",
    "\n",
    "2) You could shop for clothes.\n",
    "\n",
    "This has a probability of $0.1$ that you will find a great outfit at a good price, utility $20$. However, it \n",
    "has a probability of $0.9$ that you end up wasting money on over-priced junk, utility $-10$.\n",
    "\n",
    "3) You could have a bite to eat.\n",
    "\n",
    "This has a probability of $0.8$ that you find something rather mediocre that prevents you from being too hungry \n",
    "during your flight, utility $2$, and a probability of $0.2$ that you find something filling and tasty, utility $5$.\n",
    "    \n",
    "What should you do if you take the principle of maximum expected utility to be your decision criterion?\n",
    "\n",
    "Write a short document (PDF, max 1 page) or Jupyter Notebook file (preferred) describing your solution and send \n",
    "it to **sparsons@lincoln.ac.uk** with subject *AAI Workshop 7 - NAME SURNAME*. Please submit your work by <u>4pm</u> on the \n",
    "<u>2nd December 2021</u>. **It will not be graded, but only used by the lecturer to check the progress of the class**.\n"
   ]
  },
  {
   "cell_type": "code",
   "execution_count": null,
   "metadata": {},
   "outputs": [],
   "source": []
  }
 ],
 "metadata": {
  "kernelspec": {
   "display_name": "Python 3",
   "language": "python",
   "name": "python3"
  },
  "language_info": {
   "codemirror_mode": {
    "name": "ipython",
    "version": 3
   },
   "file_extension": ".py",
   "mimetype": "text/x-python",
   "name": "python",
   "nbconvert_exporter": "python",
   "pygments_lexer": "ipython3",
   "version": "3.6.8"
  }
 },
 "nbformat": 4,
 "nbformat_minor": 4
}
