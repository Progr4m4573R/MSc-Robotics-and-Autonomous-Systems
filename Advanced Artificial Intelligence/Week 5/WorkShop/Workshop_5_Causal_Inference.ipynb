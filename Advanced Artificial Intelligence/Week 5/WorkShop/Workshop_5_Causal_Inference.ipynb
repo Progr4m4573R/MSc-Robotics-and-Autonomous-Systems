{
 "cells": [
  {
   "cell_type": "markdown",
   "metadata": {
    "tags": []
   },
   "source": [
    "# AAI Workshop 5\n",
    "\n",
    "## EXAMPLE: Causal effect of rain on wet grass\n",
    "\n",
    "Let's consider again our Sprinkler network, assuming this is a reliable description of the causal relationships between its four variables:\n",
    "\n",
    "![Sprinkler example](sprinkler_dag_new.jpg)\n",
    "\n",
    "In this case we want to estimate the causal effects of the rain on the \"wetness\" of the grass.\n",
    "\n",
    "Note that it wouldn't be physically possible to modify the rain variable $R$. Yet, we can use probabilities from observational data of the weather to compute its causal effect \"as if\" we were able to intervene on it.\n",
    "\n",
    "To this end, we can compute the effect of the intervention $P(G = true | do(R = true))$, or simply $P(g | do(r))$, by using the adjustment formula for the only parent of $R$, which is $C$:\n",
    "\n",
    "$\n",
    "\\begin{align*}\n",
    "P(g | do(r)) &= \\sum_{z \\in C} P(g | r, z) P(z) \\\\\n",
    "&= P(g | r, c) P(c) + P(g | r, \\neg c) P(\\neg c)\n",
    "\\end{align*}\n",
    "$\n",
    "\n",
    "The probability distribution ${\\bf P}(C) = \\langle P(c), P(\\neg c) \\rangle$ is already given by the network. The conditional distribution ${\\bf P}(G | r, c) = \\langle P(g | r, c), P(\\neg g | r, c)\\rangle$ can be computed as follows:\n",
    "\n",
    "$\n",
    "\\begin{align*}\n",
    "{\\bf P}(G | r, c) = \\dfrac{{\\bf P}(G, r, c)}{P(r, c)} = \\alpha {\\bf P}(G, r, c) &= \\alpha \\sum_s {\\bf P}(G, r, c, s) \\\\\n",
    "&= \\alpha \\sum_s P(c) P(r|c) P(s|c) {\\bf P}(G | r, s) \\\\\n",
    "&= \\alpha P(c) P(r|c) \\sum_s  P(s|c) {\\bf P}(G | r, s) \\\\\n",
    "&= \\alpha' \\sum_s  P(s|c) {\\bf P}(G | r, s) \\\\\n",
    "&= \\alpha' \\big[ P(s|c) {\\bf P}(G | r, s) + P(\\neg s|c) {\\bf P}(G | r, \\neg s) \\big]\n",
    "\\end{align*}\n",
    "$\n",
    "\n",
    "where in the last steps we moved the product $P(c) P(r|c)$ within the normalisation factor $\\alpha'$.\n",
    "\n",
    "Substituting the values from the netwrok's CPTs, we get the following:\n",
    "\n",
    "$\n",
    "{\\bf P}(G | r, c) = \\alpha' \\big[ 0.1 \\times \\langle 0.95, 0.05 \\rangle + 0.9 \\times \\langle 0.90, 0.10 \\rangle \\big] = \\langle 0.905, 0.095 \\rangle\n",
    "$\n",
    "\n",
    "If we do the same for the condition $\\neg c$, we obtain the following distribution:\n",
    "\n",
    "$\n",
    "{\\bf P}(G | r, \\neg c) = \\alpha' \\big[ 0.5 \\times \\langle 0.95, 0.05 \\rangle + 0.5 \\times \\langle 0.90, 0.10 \\rangle \\big] = \\langle 0.925, 0.075 \\rangle\n",
    "$\n",
    "\n",
    "Finally, we use the calculated values, $P(g | r, c) = 0.905$ and $P(g | r, \\neg c) = 0.925$, in the previous adjustment formula and obtain the following:\n",
    "\n",
    "$\n",
    "P(g | do(r)) = 0.905 \\times 0.5 + 0.925 \\times 0.5 = 0.915\n",
    "$\n",
    "\n",
    "which is our causal effect of the intervention $R = true$ on the wetness $G = true$.\n",
    "\n",
    "---\n",
    "\n",
    "## EXERCISE\n",
    "\n",
    "1) What is the causal effect of the cloudy weather $c$ on the grass' wetness $g$? (i.e. math expression of $P(g | do(c))$\n",
    "\n",
    "2) Between rain and sprinkler, which one has the stronger causal effect on the wetness, $P(g | do(r))$ or $P(g | do(s))$ ?\n",
    "\n",
    "3) Compute the average causal effect (ACE) of the sprinkler on the wetness $g$.\n",
    "\n",
    "---\n",
    "\n",
    "Write a short document (PDF, max 2 pages) or Jupyter Notebook file (preferred) describing your solution(s) and send it to **nbellotto@lincoln.ac.uk** with subject *AAI Workshop 5 - NAME SURNAME*. Please submit your work by the <u>22nd Nov 2021</u>. **It will not be graded, but only used by the lecturer to check the progress of the class**.\n"
   ]
  },
  {
   "cell_type": "code",
   "execution_count": null,
   "metadata": {},
   "outputs": [],
   "source": []
  }
 ],
 "metadata": {
  "kernelspec": {
   "display_name": "Python 3 (ipykernel)",
   "language": "python",
   "name": "python3"
  },
  "language_info": {
   "codemirror_mode": {
    "name": "ipython",
    "version": 3
   },
   "file_extension": ".py",
   "mimetype": "text/x-python",
   "name": "python",
   "nbconvert_exporter": "python",
   "pygments_lexer": "ipython3",
   "version": "3.9.7"
  }
 },
 "nbformat": 4,
 "nbformat_minor": 4
}
