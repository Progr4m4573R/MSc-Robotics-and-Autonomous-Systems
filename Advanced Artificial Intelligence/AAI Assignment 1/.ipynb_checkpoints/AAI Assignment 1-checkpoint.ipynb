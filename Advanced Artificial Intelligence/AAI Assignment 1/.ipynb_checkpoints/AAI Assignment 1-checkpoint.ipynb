{
 "cells": [
  {
   "cell_type": "markdown",
   "id": "2f4a97cb",
   "metadata": {
    "colab_type": "text",
    "id": "view-in-github"
   },
   "source": [
    "<a href=\"https://colab.research.google.com/github/Progr4m4573R/MSc-Robotics-and-Autonomous-Systems/blob/main/Advanced%20Artificial%20Intelligence/AAI%20Assignment%201/AAI%20Assignment%201.ipynb\" target=\"_parent\"><img src=\"https://colab.research.google.com/assets/colab-badge.svg\" alt=\"Open In Colab\"/></a>"
   ]
  },
  {
   "cell_type": "markdown",
   "id": "6548fac8-e072-4cb3-95fc-ca5d225a3efc",
   "metadata": {
    "id": "6548fac8-e072-4cb3-95fc-ca5d225a3efc"
   },
   "source": [
    "Assuming X ∈ {nothing, placebo, medicine} is the possible treatment, Y ∈ {survive, ¬survive} is \n",
    "the outcome, and Z ∈ {healthy, ¬healthy} is the mental condition:\n",
    "a) \n",
    "\n",
    "Represent the above situation with a Causal Bayesian Network (CBN) and its conditional \n",
    "probability tables (CPTs)\n",
    "\n",
    "P(X,Y,Z) Can be decomposed into:\n",
    "\n",
    "P(Y|X,Z)\n",
    "P(X|Z)\n",
    "P(Z)"
   ]
  },
  {
   "cell_type": "code",
   "execution_count": 1,
   "id": "8191a9c1-a80c-4393-a7f3-4e52a0542643",
   "metadata": {
    "colab": {
     "base_uri": "https://localhost:8080/"
    },
    "id": "8191a9c1-a80c-4393-a7f3-4e52a0542643",
    "outputId": "3e07f69b-dd9c-40f8-e25f-01d91ce45c15"
   },
   "outputs": [
    {
     "name": "stdout",
     "output_type": "stream",
     "text": [
      "     Z  X  Y\n",
      "0    1  2  1\n",
      "1    0  2  1\n",
      "2    1  2  1\n",
      "3    1  0  1\n",
      "4    1  1  1\n",
      "..  .. .. ..\n",
      "995  1  2  1\n",
      "996  1  2  1\n",
      "997  1  2  1\n",
      "998  1  0  1\n",
      "999  1  0  1\n",
      "\n",
      "[1000 rows x 3 columns]\n"
     ]
    }
   ],
   "source": [
    "import pandas as pd\n",
    "import numpy as np\n",
    "df = pd.read_csv('assignment1_dataset.csv')\n",
    "print(df)"
   ]
  },
  {
   "cell_type": "markdown",
   "id": "5c92dee8-023d-4666-8c7d-ce6a0172de75",
   "metadata": {
    "id": "5c92dee8-023d-4666-8c7d-ce6a0172de75"
   },
   "source": [
    "In the dataset, assume the following meanings:\n",
    "\n",
    "X=0 --> nothing\n",
    "\n",
    "X=1 --> placebo\n",
    "\n",
    "X=2 --> medicine\n",
    "\n",
    "Y=0 --> ¬survive\n",
    "\n",
    "Y=1 --> survive\n",
    "\n",
    "Z=0 --> ¬healthy\n",
    "\n",
    "Z=1 --> healthy"
   ]
  },
  {
   "cell_type": "markdown",
   "id": "b02c2834-41b6-42d0-bca3-813f3f2c0628",
   "metadata": {
    "id": "b02c2834-41b6-42d0-bca3-813f3f2c0628"
   },
   "source": [
    "![CBN diagram](CBN_image.png \"Title\")"
   ]
  },
  {
   "cell_type": "code",
   "execution_count": 2,
   "id": "f871d556-9181-4f34-8963-e1cb334152dc",
   "metadata": {
    "colab": {
     "base_uri": "https://localhost:8080/"
    },
    "id": "f871d556-9181-4f34-8963-e1cb334152dc",
    "outputId": "bd9fa7b7-c6d1-4547-8a2a-2785023a6f81"
   },
   "outputs": [
    {
     "name": "stdout",
     "output_type": "stream",
     "text": [
      "survive or not\n",
      " 1    0.746\n",
      "0    0.254\n",
      "Name: Y, dtype: float64 \n",
      "Medicine or not\n",
      " 1    0.436\n",
      "2    0.393\n",
      "0    0.171\n",
      "Name: X, dtype: float64 \n",
      "Healthy or not \n",
      " 1    0.728\n",
      "0    0.272\n",
      "Name: Z, dtype: float64\n"
     ]
    }
   ],
   "source": [
    "#https://www.marsja.se/pandas-count-occurrences-in-column-unique-values/\n",
    "state = (df['Y']).value_counts(normalize=True)\n",
    "pill_state = (df['X']).value_counts(normalize=True)\n",
    "health_state = (df['Z']).value_counts(normalize=True)\n",
    "\n",
    "print(\"survive or not\\n\",state,\"\\nMedicine or not\\n\",pill_state,\"\\nHealthy or not \\n\",health_state)"
   ]
  },
  {
   "cell_type": "code",
   "execution_count": 31,
   "id": "5b05a35c-cf5c-4c20-b829-a99c2699dd48",
   "metadata": {},
   "outputs": [
    {
     "name": "stdout",
     "output_type": "stream",
     "text": [
      "Treatment and not healthy 0.900735294117647\n",
      "No treatment and not healthy 0.09926470588235294\n",
      "\n",
      "Treatment and healthy 0.8021978021978023\n",
      "No treatment and healthy 0.19780219780219782\n",
      "\n",
      "Medicine and not healthy 0.4779411764705882\n",
      "Medicine and healthy 0.3612637362637363\n",
      "\n",
      "Placebo and not healthy 0.42279411764705876\n",
      "Placebo and healthy 0.4409340659340659\n",
      "\n",
      "Survive and Healty 0.8214285714285715\n",
      "Not survive and not Healthy 0.45588235294117646\n"
     ]
    }
   ],
   "source": [
    "#P(X/Z)\n",
    "x_0andz_0 =     df[(df['X']==0)&(df['Z']==0)]\n",
    "x_0andz_1 =     df[(df['X']==0)&(df['Z']==1)]\n",
    "not_x_0andz_0 = df[(df['X']!=0)&(df['Z']==0)]\n",
    "not_x_0andz_1 = df[(df['X']!=0)&(df['Z']==1)]\n",
    "\n",
    "x_1andz_0 =     df[(df['X']==1)&(df['Z']==0)]\n",
    "x_1andz_1 =     df[(df['X']==1)&(df['Z']==1)]\n",
    "not_x_1andz_0 = df[(df['X']!=1)&(df['Z']==0)]\n",
    "not_x_1andz_1 = df[(df['X']!=1)&(df['Z']==1)]\n",
    "\n",
    "x_2andz_0 =     df[(df['X']==2)&(df['Z']==0)]\n",
    "x_2andz_1 =     df[(df['X']==2)&(df['Z']==1)]\n",
    "not_x_2andz_0 = df[(df['X']!=2)&(df['Z']==0)]\n",
    "not_x_2andz_1 = df[(df['X']!=2)&(df['Z']==1)]\n",
    "\n",
    "#P(Y/Z)\n",
    "y_0andz_0 =     df[(df['Y']==0)& (df['Z']==0)]\n",
    "y_1andz_1 =     df[(df['Y']==1)& (df['Z']==1)]\n",
    "\n",
    "#P(Y,X/Z)\n",
    "Y_GIVEN_P_X0_Z0 = df[(df['X']==0)&(df['Z']==0)]\n",
    "Y_GIVEN_P_X1_Z1 = df[(df['X']==1)&(df['Z']==0)]\n",
    "P_X2_Z0 = df[(df['X']==2)&(df['Z']==0)]\n",
    "P_X0_Y1_Z0 = df[(df['X']==0)&(df['Z']==0)]\n",
    "P_X1_Y1_Z0 = df[(df['X']==1)&(df['Z']==0)]\n",
    "P_X2_Y1_Z0 = df[(df['X']==2)&(df['Z']==0)]\n",
    "\n",
    "#P(x0/X|Z)\n",
    "#x is 0 and z is 0, WHEN X = nothing and patient not healthy \n",
    "P_of_x0_given_Z0 = (len(x_0andz_0.index)/health_state[0])*(1/1000)#-------->correct\n",
    "#When X is not 0 and Z is 1, when X =  treatment and patient healthy\n",
    "P_of_not_x0_given_Z1 = (len(not_x_0andz_1.index)/health_state[1])*(1/1000)#------>correct\n",
    "\n",
    "#When x is not 0 and z is 0, WHEN X = treatment and patient not healthy\n",
    "P_of_not_x0_given_Z0 = (len(not_x_0andz_0.index)/health_state[0])*(1/1000)#------->correct\n",
    "#When X is 0 and Z is 1, when X = no treatment and patient healthy\n",
    "P_of_x0_given_Z1 = (len(x_0andz_1.index)/health_state[1])*(1/1000)#---------->correct\n",
    "\n",
    "#P(x1/X|Z)--PLACEBO\n",
    "#WHEN X = 1 and patient healthy\n",
    "P_of_x1_given_Z1 = (len(x_1andz_1.index)/health_state[1])*(1/1000)\n",
    "#WHEN X = 1 and patient not healthy\n",
    "P_of_x1_given_Z0 = (len(x_1andz_0.index)/health_state[0])*(1/1000)\n",
    "\n",
    "#P(x2/X|Z)--MEDICINE\n",
    "#When x is true and z is false, WHEN X = 2 and patient not healthy\n",
    "P_of_x2_given_Z1 = (len(x_2andz_1.index)/health_state[1])*(1/1000)\n",
    "#When x is false and z is false, When x = 1 or 0 and patient not healthy\n",
    "P_of_x2_given_Z0 = (len(x_2andz_0.index)/health_state[0])*(1/1000)\n",
    " \n",
    "#P(Y/Z)\n",
    "#When y is true and Z is true \n",
    "P_of_y1_given_Z1 = (len(y_1andz_1.index)/health_state[1])*(1/1000)\n",
    "#When Y is false and Z is false\n",
    "P_of_y0_given_Z0 = (len(y_0andz_0.index)/health_state[0])*(1/1000)\n",
    "\n",
    "#Treatment and not healthy\n",
    "print(\"Treatment and not healthy\", P_of_not_x0_given_Z0)\n",
    "#No treatment and not healthy\n",
    "print(\"No treatment and not healthy\", P_of_x0_given_Z0)\n",
    "\n",
    "#Treatment and healthy\n",
    "print(\"\\nTreatment and healthy\", P_of_not_x0_given_Z1)\n",
    "#No treatment and healthy\n",
    "print(\"No treatment and healthy\", P_of_x0_given_Z1)\n",
    "\n",
    "#Medicine and not healthy\n",
    "print(\"\\nMedicine and not healthy\", P_of_x2_given_Z0)\n",
    "#No Medicine and healthy\n",
    "print(\"Medicine and healthy\", P_of_x2_given_Z1)\n",
    "\n",
    "#Placebo and not healthy\n",
    "print(\"\\nPlacebo and not healthy\", P_of_x1_given_Z0)\n",
    "#No Placebo and healthy\n",
    "print(\"Placebo and healthy\", P_of_x1_given_Z1)\n",
    "\n",
    "#Survive and Healthy\n",
    "print(\"\\nSurvive and Healty\", P_of_y1_given_Z1)\n",
    "#Not survive and not healthy\n",
    "print(\"Not survive and not Healthy\", P_of_y0_given_Z0)\n"
   ]
  },
  {
   "cell_type": "code",
   "execution_count": 23,
   "id": "754ba73c-9aec-4832-a532-a966f8a50669",
   "metadata": {},
   "outputs": [
    {
     "data": {
      "text/plain": [
       "Z  X  Y\n",
       "0  0  0    14\n",
       "      1    13\n",
       "dtype: int64"
      ]
     },
     "execution_count": 23,
     "metadata": {},
     "output_type": "execute_result"
    }
   ],
   "source": [
    "#X = 0 OR NOT\n",
    "x_0andz_0.value_counts()\n",
    "#y_given_x0_and_z1 = x_0andz_1.value_counts()\n",
    "#not_x_0andz_0.value_counts()\n",
    "#not_x_0andz_1.value_counts()\n",
    "\n"
   ]
  },
  {
   "cell_type": "code",
   "execution_count": 5,
   "id": "415bddbc-2695-4d8b-8fbe-63d00206e58f",
   "metadata": {},
   "outputs": [],
   "source": [
    "#X = 1 OR NOT\n",
    "#x_1andz_0.value_counts()\n",
    "#x_1andz_1.value_counts()\n",
    "#not_x_1andz_0.value_counts()\n",
    "#not_x_1andz_1.value_counts()\n"
   ]
  },
  {
   "cell_type": "code",
   "execution_count": 8,
   "id": "38e1263c-d03a-4f6d-9091-bb40738f021e",
   "metadata": {},
   "outputs": [],
   "source": [
    "#X = 2 OR NOT\n",
    "#x_2andz_0.value_counts()\n",
    "#x_2andz_1.value_counts()\n",
    "#not_x_2andz_0.value_counts()\n",
    "#not_x_2andz_1.value_counts()"
   ]
  },
  {
   "cell_type": "markdown",
   "id": "yw6Ia2dFejhR",
   "metadata": {
    "id": "yw6Ia2dFejhR"
   },
   "source": [
    " Implement and document a Python program that reads the given dataset and automatically \n",
    "computes the intervention’s probability P(Y | do(X)) for all the possible values of X and Y. [40 \n",
    "points]"
   ]
  },
  {
   "cell_type": "code",
   "execution_count": null,
   "id": "9e916f7a-8ad1-4842-8c75-7ed4d2e525b3",
   "metadata": {},
   "outputs": [],
   "source": [
    "def y_given_do(y_x_z, y_x_not_z, z):\n",
    "    y_given_x_z = (y_x_z*z) + (y_x_z*(1-z))\n",
    "    y_given_x_not_z = (y_x_not_z*z) + (y_x_not_z*(1-))\n",
    "    "
   ]
  },
  {
   "cell_type": "code",
   "execution_count": null,
   "id": "9f93da28-d2e9-446a-bf91-caa9427f3f12",
   "metadata": {},
   "outputs": [],
   "source": []
  },
  {
   "cell_type": "code",
   "execution_count": null,
   "id": "2b6d2b42-9112-44ff-ac09-1bea6c824a0e",
   "metadata": {},
   "outputs": [],
   "source": []
  },
  {
   "cell_type": "code",
   "execution_count": null,
   "id": "1cf3e768-a1ef-4419-b66e-54dca001a9d3",
   "metadata": {},
   "outputs": [],
   "source": []
  },
  {
   "cell_type": "code",
   "execution_count": null,
   "id": "1c344b58-9a3a-48da-96ad-900481e4076a",
   "metadata": {},
   "outputs": [],
   "source": []
  }
 ],
 "metadata": {
  "colab": {
   "include_colab_link": true,
   "name": "AAI Assignment 1.ipynb",
   "provenance": []
  },
  "kernelspec": {
   "display_name": "Python 3 (ipykernel)",
   "language": "python",
   "name": "python3"
  },
  "language_info": {
   "codemirror_mode": {
    "name": "ipython",
    "version": 3
   },
   "file_extension": ".py",
   "mimetype": "text/x-python",
   "name": "python",
   "nbconvert_exporter": "python",
   "pygments_lexer": "ipython3",
   "version": "3.9.7"
  }
 },
 "nbformat": 4,
 "nbformat_minor": 5
}
