{
 "cells": [
  {
   "cell_type": "markdown",
   "id": "ba8ecd34",
   "metadata": {
    "colab_type": "text",
    "id": "view-in-github"
   },
   "source": [
    "<a href=\"https://colab.research.google.com/github/Progr4m4573R/MSc-Robotics-and-Autonomous-Systems/blob/main/Advanced%20Artificial%20Intelligence/AAI%20Assignment%201/AAI%20Assignment%201.ipynb\" target=\"_parent\"><img src=\"https://colab.research.google.com/assets/colab-badge.svg\" alt=\"Open In Colab\"/></a>"
   ]
  },
  {
   "cell_type": "markdown",
   "id": "4339d519",
   "metadata": {
    "id": "6548fac8-e072-4cb3-95fc-ca5d225a3efc"
   },
   "source": [
    "Assuming X ∈ {nothing, placebo, medicine} is the possible treatment, Y ∈ {survive, ¬survive} is \n",
    "the outcome, and Z ∈ {healthy, ¬healthy} is the mental condition:\n",
    "a) \n",
    "\n",
    "Represent the above situation with a Causal Bayesian Network (CBN) and its conditional \n",
    "probability tables (CPTs)\n",
    "\n",
    "P(X,Y,Z) Can be decomposed into:\n",
    "\n",
    "P(Y|X,Z)\n",
    "P(X|Z)\n",
    "P(Z)"
   ]
  },
  {
   "cell_type": "code",
   "execution_count": 16,
   "id": "fca4790b",
   "metadata": {
    "colab": {
     "base_uri": "https://localhost:8080/"
    },
    "id": "8191a9c1-a80c-4393-a7f3-4e52a0542643",
    "outputId": "3e07f69b-dd9c-40f8-e25f-01d91ce45c15"
   },
   "outputs": [
    {
     "name": "stdout",
     "output_type": "stream",
     "text": [
      "     Z  X  Y\n",
      "0    1  2  1\n",
      "1    0  2  1\n",
      "2    1  2  1\n",
      "3    1  0  1\n",
      "4    1  1  1\n",
      "..  .. .. ..\n",
      "995  1  2  1\n",
      "996  1  2  1\n",
      "997  1  2  1\n",
      "998  1  0  1\n",
      "999  1  0  1\n",
      "\n",
      "[1000 rows x 3 columns]\n"
     ]
    }
   ],
   "source": [
    "import pandas as pd\n",
    "import numpy as np\n",
    "df = pd.read_csv('assignment1_dataset.csv')\n",
    "print(df)"
   ]
  },
  {
   "cell_type": "markdown",
   "id": "becf0f72",
   "metadata": {
    "id": "5c92dee8-023d-4666-8c7d-ce6a0172de75"
   },
   "source": [
    "In the dataset, assume the following meanings:\n",
    "\n",
    "X=0 --> nothing\n",
    "\n",
    "X=1 --> placebo\n",
    "\n",
    "X=2 --> medicine\n",
    "\n",
    "Y=0 --> ¬survive\n",
    "\n",
    "Y=1 --> survive\n",
    "\n",
    "Z=0 --> ¬healthy\n",
    "\n",
    "Z=1 --> healthy"
   ]
  },
  {
   "cell_type": "markdown",
   "id": "778e3c97",
   "metadata": {
    "id": "b02c2834-41b6-42d0-bca3-813f3f2c0628"
   },
   "source": [
    "![CBN diagram](CBN_image.png \"Title\")"
   ]
  },
  {
   "cell_type": "code",
   "execution_count": 17,
   "id": "ef6f8b43",
   "metadata": {
    "colab": {
     "base_uri": "https://localhost:8080/"
    },
    "id": "f871d556-9181-4f34-8963-e1cb334152dc",
    "outputId": "bd9fa7b7-c6d1-4547-8a2a-2785023a6f81"
   },
   "outputs": [
    {
     "name": "stdout",
     "output_type": "stream",
     "text": [
      "survive or not\n",
      " 1    0.746\n",
      "0    0.254\n",
      "Name: Y, dtype: float64 \n",
      "Medicine or not\n",
      " 1    0.436\n",
      "2    0.393\n",
      "0    0.171\n",
      "Name: X, dtype: float64 \n",
      "Healthy or not \n",
      " 1    0.728\n",
      "0    0.272\n",
      "Name: Z, dtype: float64\n"
     ]
    }
   ],
   "source": [
    "#https://www.marsja.se/pandas-count-occurrences-in-column-unique-values/\n",
    "Y = (df['Y']).value_counts(normalize=True)\n",
    "X = (df['X']).value_counts(normalize=True)\n",
    "Z = (df['Z']).value_counts(normalize=True)\n",
    "t, f = 1, 0\n",
    "print(\"survive or not\\n\",Y,\"\\nMedicine or not\\n\",X,\"\\nHealthy or not \\n\",Z)"
   ]
  },
  {
   "cell_type": "code",
   "execution_count": 100,
   "id": "58893a63",
   "metadata": {},
   "outputs": [
    {
     "name": "stdout",
     "output_type": "stream",
     "text": [
      "No treatment and not healthy 0.09926470588235294\n",
      "No treatment and healthy 0.19780219780219782\n",
      "\n",
      "Medicine and not healthy 0.4779411764705882\n",
      "Medicine and healthy 0.3612637362637363\n",
      "\n",
      "Placebo and not healthy 0.42279411764705876\n"
     ]
    },
    {
     "data": {
      "text/plain": [
       "0.7720430107526882"
      ]
     },
     "execution_count": 100,
     "metadata": {},
     "output_type": "execute_result"
    }
   ],
   "source": [
    "#P(X/Z)\n",
    "x_0andz_0 =     df[(df['X']==0)&(df['Z']==0)]\n",
    "x_0andz_1 =     df[(df['X']==0)&(df['Z']==1)]\n",
    "not_x_0andz_0 = df[(df['X']!=0)&(df['Z']==0)]\n",
    "not_x_0andz_1 = df[(df['X']!=0)&(df['Z']==1)]\n",
    "\n",
    "x_1andz_0 =     df[(df['X']==1)&(df['Z']==0)]\n",
    "x_1andz_1 =     df[(df['X']==1)&(df['Z']==1)]\n",
    "not_x_1andz_0 = df[(df['X']!=1)&(df['Z']==0)]\n",
    "not_x_1andz_1 = df[(df['X']!=1)&(df['Z']==1)]\n",
    "\n",
    "x_2andz_0 =     df[(df['X']==2)&(df['Z']==0)]\n",
    "x_2andz_1 =     df[(df['X']==2)&(df['Z']==1)]\n",
    "not_x_2andz_0 = df[(df['X']!=2)&(df['Z']==0)]\n",
    "not_x_2andz_1 = df[(df['X']!=2)&(df['Z']==1)]\n",
    "\n",
    "#P(Y,X/Z)\n",
    "y_x0_z0 = df[(df['Y']==1)&(df['X']==0)&(df['Z']==0)]\n",
    "y_x0_z1 = df[(df['Y']==1)&(df['X']==0)&(df['Z']==1)]\n",
    "y_not_x0_z0 = df[(df['Y']==1)&(df['X']!=0)&(df['Z']==0)]\n",
    "y_not_x0_z1 = df[(df['Y']==1)&(df['X']!=0)&(df['Z']==1)]\n",
    "\n",
    "y_x1_z0 = df[(df['Y']==1)&(df['X']==1)&(df['Z']==0)]\n",
    "y_x1_z1 = df[(df['Y']==1)&(df['X']==1)&(df['Z']==1)]\n",
    "y_not_x1_z0 = df[(df['Y']==1)&(df['X']!=1)&(df['Z']==0)]\n",
    "y_not_x1_z1 = df[(df['Y']==1)&(df['X']!=1)&(df['Z']==1)]\n",
    "\n",
    "y_x2_z0 = df[(df['Y']==1)&(df['X']==2)&(df['Z']==0)]\n",
    "y_x2_z1 = df[(df['Y']==1)&(df['X']==2)&(df['Z']==1)]\n",
    "y_not_x2_z0 = df[(df['Y']==1)&(df['X']!=2)&(df['Z']==0)]\n",
    "y_not_x2_z1 = df[(df['Y']==1)&(df['X']!=2)&(df['Z']==1)]\n",
    "\n",
    "\n",
    "\n",
    "#P(x0/X|Z)\n",
    "#x is 0 and z is 0, WHEN X = nothing and patient not healthy \n",
    "P_of_x0_given_z0 = (len(x_0andz_0.index)/Z[f])*(1/1000)\n",
    "#When X is not 0 and Z is 1, when X =  treatment and patient healthy\n",
    "P_of_not_x0_given_z1 = (len(not_x_0andz_1.index)/Z[t])*(1/1000)\n",
    "\n",
    "#When x is not 0 and z is 0, WHEN X = treatment and patient not healthy\n",
    "P_of_not_x0_given_z0 = (len(not_x_0andz_0.index)/Z[f])*(1/1000)\n",
    "#When X is 0 and Z is 1, when X = no treatment and patient healthy\n",
    "P_of_x0_given_z1 = (len(x_0andz_1.index)/Z[t])*(1/1000)\n",
    "\n",
    "#P(x1/X|Z)--PLACEBO\n",
    "#WHEN X = 1 and patient healthy\n",
    "P_of_x1_given_z1 = (len(x_1andz_1.index)/Z[t])*(1/1000)\n",
    "P_of_not_x1_given_z1 = (len(not_x_1andz_1.index)/Z[t])*(1/1000)\n",
    "#WHEN X = 1 and patient not healthy\n",
    "P_of_x1_given_z0 = (len(x_1andz_0.index)/Z[f])*(1/1000)\n",
    "P_of_not_x1_given_z0 = (len(not_x_1andz_0.index)/Z[f])*(1/1000)\n",
    "                        \n",
    "#P(x2/X|Z)--MEDICINE\n",
    "#When x is true and z is false, WHEN X = 2 and patient not healthy\n",
    "P_of_x2_given_z1 = (len(x_2andz_1.index)/Z[t])*(1/1000)\n",
    "P_of_not_x2_given_z1 = (len(not_x_2andz_1.index)/Z[t])*(1/1000)                        \n",
    "#When x is false and z is false, When x = 1 or 0 and patient not healthy\n",
    "P_of_x2_given_z0 = (len(x_2andz_0.index)/Z[f])*(1/1000)\n",
    "P_of_not_x2_given_z0 = (len(not_x_2andz_0.index)/Z[f])*(1/1000)\n",
    "                        \n",
    "#P(Y/X,Z)\n",
    "Y_GIVEN_P_X0_Z0 = len(y_x0_z0.index)/len(x_0andz_0)\n",
    "Y_GIVEN_P_X0_Z1 = len(y_x0_z1.index)/len(x_0andz_1)\n",
    "Y_GIVEN_P_not_X0_Z0 = len(y_not_x0_z0.index)/len(not_x_0andz_0)\n",
    "Y_GIVEN_P_not_X0_Z1 =  len(y_not_x0_z1.index)/len(not_x_0andz_1)\n",
    "\n",
    "Y_GIVEN_P_X1_Z0 = len(y_x1_z0.index)/len(x_1andz_0)\n",
    "Y_GIVEN_P_X1_Z1 = len(y_x1_z1.index)/len(x_1andz_1)\n",
    "Y_GIVEN_P_not_X1_Z0 = len(y_not_x1_z0.index)/len(not_x_1andz_0)\n",
    "Y_GIVEN_P_not_X1_Z1 = len(y_not_x1_z1.index)/len(not_x_1andz_1)\n",
    "\n",
    "Y_GIVEN_P_X2_Z0 = len(y_x2_z0.index)/len(x_2andz_0)\n",
    "Y_GIVEN_P_X2_Z1 = len(y_x2_z1.index)/len(x_2andz_1)  \n",
    "Y_GIVEN_P_not_X2_Z0 = len(y_not_x2_z0.index)/len(not_x_2andz_0)\n",
    "Y_GIVEN_P_not_X2_Z1 = len(y_not_x2_z1.index)/len(not_x_2andz_1)\n",
    "\n",
    "\n",
    "#Treatment and not healthy\n",
    "#print(\"Treatment and not healthy\", P_of_not_x0_given_z0)\n",
    "#No treatment and not healthy\n",
    "print(\"No treatment and not healthy\", P_of_x0_given_z0)\n",
    "\n",
    "#Treatment and healthy\n",
    "#print(\"Treatment and healthy\", P_of_not_x0_given_z1)\n",
    "#No treatment and healthy\n",
    "print(\"No treatment and healthy\", P_of_x0_given_z1)\n",
    "\n",
    "#Medicine and not healthy\n",
    "print(\"\\nMedicine and not healthy\", P_of_x2_given_z0)\n",
    "#No Medicine and healthy\n",
    "print(\"Medicine and healthy\", P_of_x2_given_z1)\n",
    "\n",
    "#Placebo and not healthy\n",
    "print(\"\\nPlacebo and not healthy\", P_of_x1_given_z0)\n",
    "#No Placebo and healthy\n",
    "Y_GIVEN_P_not_X2_Z1"
   ]
  },
  {
   "cell_type": "code",
   "execution_count": 75,
   "id": "51381c61",
   "metadata": {},
   "outputs": [],
   "source": [
    "p_x0_z1 = np.array([1-P_of_x0_given_z1, P_of_x0_given_z1])\n",
    "P_x0_z0 = np.array([1-P_of_x0_given_z0, P_of_x0_given_z0])\n",
    "\n",
    "p_x1_z1 = np.array([1-P_of_x1_given_z1, P_of_x1_given_z1])\n",
    "p_x1_z0 = np.array([1-P_of_x1_given_z0, P_of_x1_given_z0])\n",
    "\n",
    "p_x2_z1 = np.array([1-P_of_x2_given_z1, P_of_x2_given_z1])\n",
    "p_x2_z0 = np.array([1-P_of_x2_given_z0, P_of_x2_given_z0])\n",
    "\n",
    "p_y_x0_z1 = np.array([1-Y_GIVEN_P_X0_Z1, Y_GIVEN_P_X0_Z1])\n",
    "p_y_x0_z0 = np.array([1-Y_GIVEN_P_X0_Z0, Y_GIVEN_P_X0_Z0])\n",
    "\n",
    "p_y_x1_z1 = np.array([1-Y_GIVEN_P_X1_Z1, Y_GIVEN_P_X1_Z1])\n",
    "p_y_x1_z0 = np.array([1-Y_GIVEN_P_X1_Z0, Y_GIVEN_P_X1_Z0])\n",
    "\n",
    "p_y_x2_z1 = np.array([1-Y_GIVEN_P_X2_Z1, Y_GIVEN_P_X2_Z1])\n",
    "p_y_x2_z0 = np.array([1-Y_GIVEN_P_X2_Z0, Y_GIVEN_P_X2_Z0])\n",
    "\n",
    "p_y_not_x0_z0 = np.array([1-Y_GIVEN_P_not_X0_Z0,Y_GIVEN_P_not_X0_Z0])\n",
    "p_y_not_x1_z0 = np.array([1-Y_GIVEN_P_not_X1_Z0,Y_GIVEN_P_not_X1_Z0])\n",
    "p_y_not_x2_z0 = np.array([1-Y_GIVEN_P_not_X2_Z0,Y_GIVEN_P_not_X2_Z0])"
   ]
  },
  {
   "cell_type": "markdown",
   "id": "a92ae743",
   "metadata": {
    "id": "yw6Ia2dFejhR"
   },
   "source": [
    " Implement and document a Python program that reads the given dataset and automatically \n",
    "computes the intervention’s probability P(Y | do(X)) for all the possible values of X and Y. [40 \n",
    "points]"
   ]
  },
  {
   "cell_type": "code",
   "execution_count": 76,
   "id": "435700b7",
   "metadata": {},
   "outputs": [],
   "source": [
    "def y_do_x(y_x_z, y_x_not_z, y_not_x_z,y_not_x_not_z,z):\n",
    "    y1_x1 = (y_x_z * z[t]) + (y_x_not_z * z[f])\n",
    "    \n",
    "    y1_x0 = (y_not_x_z * z[t]) + (y_not_x_not_z * z[f])\n",
    "    \n",
    "    return y1_x1, y1_x0\n",
    "    #Computes Y TRUE/FALSE given Z is TRUE \n",
    "    #AND Y TRUE/FALSE Given Z is false"
   ]
  },
  {
   "cell_type": "code",
   "execution_count": 77,
   "id": "348195e5",
   "metadata": {},
   "outputs": [
    {
     "data": {
      "text/plain": [
       "(array([0.28259259, 0.71740741]), array([0.2998885, 0.7001115]))"
      ]
     },
     "execution_count": 77,
     "metadata": {},
     "output_type": "execute_result"
    }
   ],
   "source": [
    "y_do_x(p_y_x0_z1,p_y_x0_z0,p_y_x1_z1,p_y_x1_z0,Z)"
   ]
  },
  {
   "cell_type": "code",
   "execution_count": 78,
   "id": "c7fde03d",
   "metadata": {},
   "outputs": [
    {
     "data": {
      "text/plain": [
       "(array([0.2998885, 0.7001115]), array([0.28259259, 0.71740741]))"
      ]
     },
     "execution_count": 78,
     "metadata": {},
     "output_type": "execute_result"
    }
   ],
   "source": [
    "y_do_x(p_y_x1_z1,p_y_x1_z0,p_y_x0_z1,p_y_x0_z0,Z)"
   ]
  },
  {
   "cell_type": "code",
   "execution_count": 79,
   "id": "d35e90d2",
   "metadata": {},
   "outputs": [
    {
     "data": {
      "text/plain": [
       "(array([0.18778731, 0.81221269]), array([0.18778731, 0.81221269]))"
      ]
     },
     "execution_count": 79,
     "metadata": {},
     "output_type": "execute_result"
    }
   ],
   "source": [
    "y_do_x(p_y_x2_z1,p_y_x2_z0,p_y_x2_z1,p_y_x2_z0,Z)"
   ]
  },
  {
   "cell_type": "markdown",
   "id": "7125da10",
   "metadata": {},
   "source": [
    "Modify the CBN to introduce another variable W ∈ {gene, ¬gene}, which indicates whether \n",
    "the patient is genetically predisposed to some mental problem. This influences the actual \n",
    "mental condition Z according to the following probabilities: \n",
    "P(Z = healthy | W = gene) = 0.6 \n",
    "P(Z = healthy | W = ¬gene) = 0.8 \n",
    "P(W = gene) = 0.1 \n",
    "Implement and document a Python program for the new CBN that computes the average \n",
    "causal effect (ACE) of the genetic profile W on the patient’s survival Y.  [40 points]"
   ]
  },
  {
   "cell_type": "markdown",
   "id": "ae900a6d",
   "metadata": {},
   "source": [
    "![CBN diagram](CBN_image_part_c.png \"Title\")"
   ]
  },
  {
   "cell_type": "code",
   "execution_count": 80,
   "id": "78529d16",
   "metadata": {},
   "outputs": [],
   "source": [
    "P_Z_W = np.array([[0.6,0.4],[0.8,0.2]])\n",
    "P_W = np.array([0.1,0.9])\n",
    "#P(Y,X,Z,W)\n",
    "#P(Y,X,Z)*(X/Z)*(Z/W)*(W)\n",
    "#Intervene on X\n",
    "# P(Y|do(w), = P(y/w)\n",
    "#P(Y=1,X=1,Z=1)*(Z=1,W=1)*(W=1) + P(Y=1,X=1,Z=0)*(Z=0,W=0)*(W=0) +  \n",
    "#P(Y=1,X=0,Z=1)*(Z=1,W=1)*(W=1) + P(Y=1,X=0,Z=0)*(Z=0,W=0)*(W=0)"
   ]
  },
  {
   "cell_type": "markdown",
   "id": "b145c433",
   "metadata": {},
   "source": [
    "P(Y|w)=αP(Y,w)\n",
    "\n",
    "=α  ∑z,x P(Y,x,w,z)\n",
    "\n",
    "=α  ∑z∑xP(Y|x,z) * P(x|z) * P(z|w) * P(w)\n",
    "\n",
    "=α  P(x|z) * ∑zP(z|w) * ∑xP(Y|x,z) * P(w)\n",
    "\n",
    "𝐏(Y|W)=⟨--(𝑃(y|w),𝑃(¬y|w)--) + (--𝑃(y|¬w),𝑃(¬y|¬w)--)⟩:"
   ]
  },
  {
   "cell_type": "code",
   "execution_count": 81,
   "id": "6b3dc57a",
   "metadata": {},
   "outputs": [],
   "source": [
    "#Y|do(x),W\n",
    "def Y_W(y_x_z, y_not_x_z, y_not_x_not_z, y_x_not_z, x_z,x_not_z,z_w,w):\n",
    "    y1_w1 = w[t]*(z_w[t,t]*(y_x_z[t] *x_z[t] + y_not_x_z*x_z[f]) \n",
    "                + z_w[f,t]*(y_x_not_z[t] *x_not_z[t] + y_not_x_not_z[t] *x_not_z[f]))\n",
    "    \n",
    "    y1_w0 = w[f]*(z_w[t,f]*(y_x_z[t] *x_z[t] + y_not_x_z*x_z[f]) \n",
    "                + z_w[f,f]*((y_x_not_z[t] *x_not_z[t] + y_not_x_not_z[t] *x_not_z[f])))\n",
    "    \n",
    "    return y1_w1 - y1_w0"
   ]
  },
  {
   "cell_type": "code",
   "execution_count": null,
   "id": "e94f3c6e-8c23-450e-a55e-4bd30625ec17",
   "metadata": {},
   "outputs": [],
   "source": []
  },
  {
   "cell_type": "code",
   "execution_count": 82,
   "id": "a66bb29b",
   "metadata": {},
   "outputs": [
    {
     "data": {
      "text/plain": [
       "0.7082547442053746"
      ]
     },
     "execution_count": 82,
     "metadata": {},
     "output_type": "execute_result"
    }
   ],
   "source": [
    "sum1 = Y_W(p_y_x1_z1,P_of_not_x1_given_z1,p_y_not_x1_z0,p_y_x1_z0,p_x1_z1,p_x1_z0,P_Z_W,P_W)#y/x1\n",
    "sum0 = Y_W(p_y_x0_z1,P_of_not_x0_given_z1,p_y_not_x0_z0,p_y_x0_z0,p_x0_z1,P_x0_z0,P_Z_W,P_W)#y/x0 \n",
    "sum2 = Y_W(p_y_x2_z1,P_of_not_x2_given_z1,p_y_not_x2_z0,p_y_x2_z0,p_x2_z1,p_x2_z0,P_Z_W,P_W)#y/x2\n",
    "\n",
    "Output = sum0+sum1+sum2\n",
    "Output"
   ]
  },
  {
   "cell_type": "markdown",
   "id": "6b8b7c8c",
   "metadata": {},
   "source": [
    "sum1 = ACE(p_y_x1_z1,\n",
    "           p_y_x1_z1,\n",
    "           p_y_x0_z1,\n",
    "           p_y_x1_z0,\n",
    "           P_Z_W,P_W)#y/x1\n",
    "sum1"
   ]
  },
  {
   "cell_type": "code",
   "execution_count": 65,
   "id": "a99759cc",
   "metadata": {},
   "outputs": [],
   "source": [
    "#Experimenting\n",
    "\n",
    "#X = 0 OR NOT\n",
    "#x_0andz_0.value_counts()\n",
    "#y_given_x0_and_z1 = x_0andz_1.value_counts()\n",
    "#not_x_0andz_0.value_counts()\n",
    "#not_x_0andz_1.value_counts()\n",
    "\n",
    "#X = 1 OR NOT\n",
    "#x_1andz_0.value_counts()\n",
    "#x_1andz_1.value_counts()\n",
    "#not_x_1andz_0.value_counts()\n",
    "#not_x_1andz_1.value_counts()\n",
    "\n",
    "#X = 2 OR NOT\n",
    "#x_2andz_0.value_counts()\n",
    "\n",
    "#x_2andz_1.value_counts()\n",
    "#not_x_2andz_0.value_counts()\n",
    "#not_x_2andz_1.value_counts()"
   ]
  },
  {
   "cell_type": "code",
   "execution_count": null,
   "id": "403163d2",
   "metadata": {},
   "outputs": [],
   "source": []
  }
 ],
 "metadata": {
  "colab": {
   "include_colab_link": true,
   "name": "AAI Assignment 1.ipynb",
   "provenance": []
  },
  "kernelspec": {
   "display_name": "Python 3 (ipykernel)",
   "language": "python",
   "name": "python3"
  },
  "language_info": {
   "codemirror_mode": {
    "name": "ipython",
    "version": 3
   },
   "file_extension": ".py",
   "mimetype": "text/x-python",
   "name": "python",
   "nbconvert_exporter": "python",
   "pygments_lexer": "ipython3",
   "version": "3.9.7"
  }
 },
 "nbformat": 4,
 "nbformat_minor": 5
}
