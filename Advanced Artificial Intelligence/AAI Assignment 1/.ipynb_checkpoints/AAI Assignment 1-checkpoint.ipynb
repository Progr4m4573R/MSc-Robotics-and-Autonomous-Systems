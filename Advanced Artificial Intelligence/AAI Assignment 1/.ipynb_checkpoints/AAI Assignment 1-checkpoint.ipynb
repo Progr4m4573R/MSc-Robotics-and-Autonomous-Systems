{
 "cells": [
  {
   "cell_type": "markdown",
   "id": "6548fac8-e072-4cb3-95fc-ca5d225a3efc",
   "metadata": {},
   "source": [
    "Assuming X ∈ {nothing, placebo, medicine} is the possible treatment, Y ∈ {survive, ¬survive} is \n",
    "the outcome, and Z ∈ {healthy, ¬healthy} is the mental condition:\n",
    "a) \n",
    "\n",
    "Represent the above situation with a Causal Bayesian Network (CBN) and its conditional \n",
    "probability tables (CPTs)\n",
    "\n",
    "P(X,Y,Z) Can be decomposed into:\n",
    "\n",
    "P(Y|X,Z)\n",
    "P(X|Z)\n",
    "P(Z)"
   ]
  },
  {
   "cell_type": "code",
   "execution_count": 4,
   "id": "8191a9c1-a80c-4393-a7f3-4e52a0542643",
   "metadata": {},
   "outputs": [
    {
     "name": "stdout",
     "output_type": "stream",
     "text": [
      "     Z  X  Y\n",
      "0    1  2  1\n",
      "1    0  2  1\n",
      "2    1  2  1\n",
      "3    1  0  1\n",
      "4    1  1  1\n",
      "..  .. .. ..\n",
      "995  1  2  1\n",
      "996  1  2  1\n",
      "997  1  2  1\n",
      "998  1  0  1\n",
      "999  1  0  1\n",
      "\n",
      "[1000 rows x 3 columns]\n"
     ]
    }
   ],
   "source": [
    "import pandas as pd\n",
    "import numpy as np\n",
    "patients_df = pd.read_csv('assignment1_dataset.csv')\n",
    "print(patients_df)\n",
    "\n",
    "t, f = 0,1"
   ]
  },
  {
   "cell_type": "markdown",
   "id": "5c92dee8-023d-4666-8c7d-ce6a0172de75",
   "metadata": {},
   "source": [
    "In the dataset, assume the following meanings:\n",
    "\n",
    "X=0 --> nothing\n",
    "\n",
    "X=1 --> placebo\n",
    "\n",
    "X=2 --> medicine\n",
    "\n",
    "Y=0 --> ¬survive\n",
    "\n",
    "Y=1 --> survive\n",
    "\n",
    "Z=0 --> ¬healthy\n",
    "\n",
    "Z=1 --> healthy"
   ]
  },
  {
   "cell_type": "markdown",
   "id": "b02c2834-41b6-42d0-bca3-813f3f2c0628",
   "metadata": {},
   "source": [
    "![CBN diagram](CBN image.png \"Title\")"
   ]
  },
  {
   "cell_type": "code",
   "execution_count": 3,
   "id": "64dcb1cb-00aa-4dda-bd67-f52dfbd9d3c2",
   "metadata": {},
   "outputs": [],
   "source": [
    "X = np.array(['nothing','placebo','medicine'])\n",
    "Y = np.array(['¬survive','survive'])\n",
    "Z = np.array(['¬healthy','healthy'])"
   ]
  },
  {
   "cell_type": "code",
   "execution_count": null,
   "id": "f871d556-9181-4f34-8963-e1cb334152dc",
   "metadata": {},
   "outputs": [],
   "source": []
  }
 ],
 "metadata": {
  "kernelspec": {
   "display_name": "Python 3 (ipykernel)",
   "language": "python",
   "name": "python3"
  },
  "language_info": {
   "codemirror_mode": {
    "name": "ipython",
    "version": 3
   },
   "file_extension": ".py",
   "mimetype": "text/x-python",
   "name": "python",
   "nbconvert_exporter": "python",
   "pygments_lexer": "ipython3",
   "version": "3.9.7"
  }
 },
 "nbformat": 4,
 "nbformat_minor": 5
}
