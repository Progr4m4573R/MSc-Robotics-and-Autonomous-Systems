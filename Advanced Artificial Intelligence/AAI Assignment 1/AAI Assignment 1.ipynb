{
 "cells": [
  {
   "cell_type": "markdown",
   "id": "2f4a97cb",
   "metadata": {
    "colab_type": "text",
    "id": "view-in-github"
   },
   "source": [
    "<a href=\"https://colab.research.google.com/github/Progr4m4573R/MSc-Robotics-and-Autonomous-Systems/blob/main/Advanced%20Artificial%20Intelligence/AAI%20Assignment%201/AAI%20Assignment%201.ipynb\" target=\"_parent\"><img src=\"https://colab.research.google.com/assets/colab-badge.svg\" alt=\"Open In Colab\"/></a>"
   ]
  },
  {
   "cell_type": "code",
   "execution_count": null,
   "id": "38e1263c-d03a-4f6d-9091-bb40738f021e",
   "metadata": {},
   "outputs": [],
   "source": []
  },
  {
   "cell_type": "markdown",
   "id": "6548fac8-e072-4cb3-95fc-ca5d225a3efc",
   "metadata": {
    "id": "6548fac8-e072-4cb3-95fc-ca5d225a3efc"
   },
   "source": [
    "Assuming X ∈ {nothing, placebo, medicine} is the possible treatment, Y ∈ {survive, ¬survive} is \n",
    "the outcome, and Z ∈ {healthy, ¬healthy} is the mental condition:\n",
    "a) \n",
    "\n",
    "Represent the above situation with a Causal Bayesian Network (CBN) and its conditional \n",
    "probability tables (CPTs)\n",
    "\n",
    "P(X,Y,Z) Can be decomposed into:\n",
    "\n",
    "P(Y|X,Z)\n",
    "P(X|Z)\n",
    "P(Z)"
   ]
  },
  {
   "cell_type": "code",
   "execution_count": 16,
   "id": "8191a9c1-a80c-4393-a7f3-4e52a0542643",
   "metadata": {
    "colab": {
     "base_uri": "https://localhost:8080/"
    },
    "id": "8191a9c1-a80c-4393-a7f3-4e52a0542643",
    "outputId": "3e07f69b-dd9c-40f8-e25f-01d91ce45c15"
   },
   "outputs": [
    {
     "name": "stdout",
     "output_type": "stream",
     "text": [
      "     Z  X  Y\n",
      "0    1  2  1\n",
      "1    0  2  1\n",
      "2    1  2  1\n",
      "3    1  0  1\n",
      "4    1  1  1\n",
      "..  .. .. ..\n",
      "995  1  2  1\n",
      "996  1  2  1\n",
      "997  1  2  1\n",
      "998  1  0  1\n",
      "999  1  0  1\n",
      "\n",
      "[1000 rows x 3 columns]\n"
     ]
    }
   ],
   "source": [
    "import pandas as pd\n",
    "import numpy as np\n",
    "df = pd.read_csv('assignment1_dataset.csv')\n",
    "print(df)"
   ]
  },
  {
   "cell_type": "markdown",
   "id": "5c92dee8-023d-4666-8c7d-ce6a0172de75",
   "metadata": {
    "id": "5c92dee8-023d-4666-8c7d-ce6a0172de75"
   },
   "source": [
    "In the dataset, assume the following meanings:\n",
    "\n",
    "X=0 --> nothing\n",
    "\n",
    "X=1 --> placebo\n",
    "\n",
    "X=2 --> medicine\n",
    "\n",
    "Y=0 --> ¬survive\n",
    "\n",
    "Y=1 --> survive\n",
    "\n",
    "Z=0 --> ¬healthy\n",
    "\n",
    "Z=1 --> healthy"
   ]
  },
  {
   "cell_type": "markdown",
   "id": "b02c2834-41b6-42d0-bca3-813f3f2c0628",
   "metadata": {
    "id": "b02c2834-41b6-42d0-bca3-813f3f2c0628"
   },
   "source": [
    "![CBN diagram](CBN image.png \"Title\")"
   ]
  },
  {
   "cell_type": "code",
   "execution_count": 31,
   "id": "f871d556-9181-4f34-8963-e1cb334152dc",
   "metadata": {
    "colab": {
     "base_uri": "https://localhost:8080/"
    },
    "id": "f871d556-9181-4f34-8963-e1cb334152dc",
    "outputId": "bd9fa7b7-c6d1-4547-8a2a-2785023a6f81"
   },
   "outputs": [
    {
     "name": "stdout",
     "output_type": "stream",
     "text": [
      "survive or not\n",
      " 1    0.746\n",
      "0    0.254\n",
      "Name: Y, dtype: float64 \n",
      "Medicine or not\n",
      " 1    0.436\n",
      "2    0.393\n",
      "0    0.171\n",
      "Name: X, dtype: float64 \n",
      "Healthy or not \n",
      " 1    0.728\n",
      "0    0.272\n",
      "Name: Z, dtype: float64\n"
     ]
    }
   ],
   "source": [
    "#https://www.marsja.se/pandas-count-occurrences-in-column-unique-values/\n",
    "state = (df['Y']).value_counts(normalize=True)\n",
    "pill_state = (df['X']).value_counts(normalize=True)\n",
    "health_state = (df['Z']).value_counts(normalize=True)\n",
    "\n",
    "print(\"survive or not\\n\",state,\"\\nMedicine or not\\n\",pill_state,\"\\nHealthy or not \\n\",health_state)"
   ]
  },
  {
   "cell_type": "code",
   "execution_count": 36,
   "id": "415bddbc-2695-4d8b-8fbe-63d00206e58f",
   "metadata": {},
   "outputs": [
    {
     "ename": "SyntaxError",
     "evalue": "invalid syntax (Temp/ipykernel_5588/2014483584.py, line 2)",
     "output_type": "error",
     "traceback": [
      "\u001b[1;36m  File \u001b[1;32m\"C:\\Users\\COMPUT~1\\AppData\\Local\\Temp/ipykernel_5588/2014483584.py\"\u001b[1;36m, line \u001b[1;32m2\u001b[0m\n\u001b[1;33m    dups = [df['X'],df['Y'],aggfunc='size'\u001b[0m\n\u001b[1;37m                                   ^\u001b[0m\n\u001b[1;31mSyntaxError\u001b[0m\u001b[1;31m:\u001b[0m invalid syntax\n"
     ]
    }
   ],
   "source": [
    "#https://kanoki.org/2020/03/09/how-to-use-pandas-count-and-value_counts/\n",
    "dups = [df['X'],df['Z'],aggfunc='size'\n",
    "print(dups)"
   ]
  },
  {
   "cell_type": "markdown",
   "id": "yw6Ia2dFejhR",
   "metadata": {
    "id": "yw6Ia2dFejhR"
   },
   "source": [
    " Implement and document a Python program that reads the given dataset and automatically \n",
    "computes the intervention’s probability P(Y | do(X)) for all the possible values of X and Y. [40 \n",
    "points]"
   ]
  },
  {
   "cell_type": "code",
   "execution_count": 30,
   "id": "9e916f7a-8ad1-4842-8c75-7ed4d2e525b3",
   "metadata": {},
   "outputs": [
    {
     "data": {
      "text/plain": [
       "Z    728.0\n",
       "X    436.0\n",
       "Y    746.0\n",
       "dtype: float64"
      ]
     },
     "execution_count": 30,
     "metadata": {},
     "output_type": "execute_result"
    }
   ],
   "source": []
  },
  {
   "cell_type": "code",
   "execution_count": null,
   "id": "9f93da28-d2e9-446a-bf91-caa9427f3f12",
   "metadata": {},
   "outputs": [],
   "source": []
  },
  {
   "cell_type": "code",
   "execution_count": null,
   "id": "5b05a35c-cf5c-4c20-b829-a99c2699dd48",
   "metadata": {},
   "outputs": [],
   "source": []
  }
 ],
 "metadata": {
  "colab": {
   "include_colab_link": true,
   "name": "AAI Assignment 1.ipynb",
   "provenance": []
  },
  "kernelspec": {
   "display_name": "Python 3 (ipykernel)",
   "language": "python",
   "name": "python3"
  },
  "language_info": {
   "codemirror_mode": {
    "name": "ipython",
    "version": 3
   },
   "file_extension": ".py",
   "mimetype": "text/x-python",
   "name": "python",
   "nbconvert_exporter": "python",
   "pygments_lexer": "ipython3",
   "version": "3.9.7"
  }
 },
 "nbformat": 4,
 "nbformat_minor": 5
}
