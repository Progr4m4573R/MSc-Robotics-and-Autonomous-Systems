{
  "nbformat": 4,
  "nbformat_minor": 5,
  "metadata": {
    "kernelspec": {
      "display_name": "Python 3 (ipykernel)",
      "language": "python",
      "name": "python3"
    },
    "language_info": {
      "codemirror_mode": {
        "name": "ipython",
        "version": 3
      },
      "file_extension": ".py",
      "mimetype": "text/x-python",
      "name": "python",
      "nbconvert_exporter": "python",
      "pygments_lexer": "ipython3",
      "version": "3.9.7"
    },
    "colab": {
      "name": "AAI Assignment 1.ipynb",
      "provenance": [],
      "include_colab_link": true
    }
  },
  "cells": [
    {
      "cell_type": "markdown",
      "metadata": {
        "id": "view-in-github",
        "colab_type": "text"
      },
      "source": [
        "<a href=\"https://colab.research.google.com/github/Progr4m4573R/MSc-Robotics-and-Autonomous-Systems/blob/main/Advanced%20Artificial%20Intelligence/AAI%20Assignment%201/AAI%20Assignment%201.ipynb\" target=\"_parent\"><img src=\"https://colab.research.google.com/assets/colab-badge.svg\" alt=\"Open In Colab\"/></a>"
      ]
    },
    {
      "cell_type": "markdown",
      "metadata": {
        "id": "6548fac8-e072-4cb3-95fc-ca5d225a3efc"
      },
      "source": [
        "Assuming X ∈ {nothing, placebo, medicine} is the possible treatment, Y ∈ {survive, ¬survive} is \n",
        "the outcome, and Z ∈ {healthy, ¬healthy} is the mental condition:\n",
        "a) \n",
        "\n",
        "Represent the above situation with a Causal Bayesian Network (CBN) and its conditional \n",
        "probability tables (CPTs)\n",
        "\n",
        "P(X,Y,Z) Can be decomposed into:\n",
        "\n",
        "P(Y|X,Z)\n",
        "P(X|Z)\n",
        "P(Z)"
      ],
      "id": "6548fac8-e072-4cb3-95fc-ca5d225a3efc"
    },
    {
      "cell_type": "code",
      "metadata": {
        "id": "8191a9c1-a80c-4393-a7f3-4e52a0542643",
        "colab": {
          "base_uri": "https://localhost:8080/"
        },
        "outputId": "3e07f69b-dd9c-40f8-e25f-01d91ce45c15"
      },
      "source": [
        "import pandas as pd\n",
        "import numpy as np\n",
        "df = pd.read_csv('assignment1_dataset.csv')\n",
        "print(df)\n",
        "\n",
        "t, f = 0,1"
      ],
      "id": "8191a9c1-a80c-4393-a7f3-4e52a0542643",
      "execution_count": null,
      "outputs": [
        {
          "output_type": "stream",
          "name": "stdout",
          "text": [
            "     Z  X  Y\n",
            "0    1  2  1\n",
            "1    0  2  1\n",
            "2    1  2  1\n",
            "3    1  0  1\n",
            "4    1  1  1\n",
            "..  .. .. ..\n",
            "995  1  2  1\n",
            "996  1  2  1\n",
            "997  1  2  1\n",
            "998  1  0  1\n",
            "999  1  0  1\n",
            "\n",
            "[1000 rows x 3 columns]\n"
          ]
        }
      ]
    },
    {
      "cell_type": "markdown",
      "metadata": {
        "id": "5c92dee8-023d-4666-8c7d-ce6a0172de75"
      },
      "source": [
        "In the dataset, assume the following meanings:\n",
        "\n",
        "X=0 --> nothing\n",
        "\n",
        "X=1 --> placebo\n",
        "\n",
        "X=2 --> medicine\n",
        "\n",
        "Y=0 --> ¬survive\n",
        "\n",
        "Y=1 --> survive\n",
        "\n",
        "Z=0 --> ¬healthy\n",
        "\n",
        "Z=1 --> healthy"
      ],
      "id": "5c92dee8-023d-4666-8c7d-ce6a0172de75"
    },
    {
      "cell_type": "code",
      "metadata": {
        "id": "ykat-RGFYE-i"
      },
      "source": [
        ""
      ],
      "id": "ykat-RGFYE-i",
      "execution_count": null,
      "outputs": []
    },
    {
      "cell_type": "markdown",
      "metadata": {
        "id": "b02c2834-41b6-42d0-bca3-813f3f2c0628"
      },
      "source": [
        "![CBN diagram](CBN image.png \"Title\")"
      ],
      "id": "b02c2834-41b6-42d0-bca3-813f3f2c0628"
    },
    {
      "cell_type": "code",
      "metadata": {
        "id": "64dcb1cb-00aa-4dda-bd67-f52dfbd9d3c2"
      },
      "source": [
        "#X = np.array(['nothing','placebo','medicine'])\n",
        "#Y = np.array(['¬survive','survive'])\n",
        "#Z = np.array(['¬healthy','healthy'])"
      ],
      "id": "64dcb1cb-00aa-4dda-bd67-f52dfbd9d3c2",
      "execution_count": null,
      "outputs": []
    },
    {
      "cell_type": "code",
      "metadata": {
        "id": "f871d556-9181-4f34-8963-e1cb334152dc",
        "colab": {
          "base_uri": "https://localhost:8080/"
        },
        "outputId": "bd9fa7b7-c6d1-4547-8a2a-2785023a6f81"
      },
      "source": [
        "state = (df['Y']).value_counts()\n",
        "pill_state = (df['X']).value_counts()\n",
        "health_state = (df['Z']).value_counts()\n",
        "\n",
        "not_survived = state[0]/sum(state)\n",
        "survived = state[1]/sum(state)\n",
        "\n",
        "no_pill = pill_state[0]/sum(pill_state)\n",
        "placebo = pill_state[1]/sum(pill_state)\n",
        "medicine = pill_state[2]/sum(pill_state)\n",
        "\n",
        "not_healthy = health_state[0]/sum(health_state)\n",
        "healthy = health_state[1]/sum(health_state)\n",
        "\n",
        "print(\"survive or not \\n\",state)\n",
        "print(\"Medicine or not\\n\",pill_state)\n",
        "print(\"Healthy or not \\n\",health_state)"
      ],
      "id": "f871d556-9181-4f34-8963-e1cb334152dc",
      "execution_count": 64,
      "outputs": [
        {
          "output_type": "stream",
          "name": "stdout",
          "text": [
            "survive or not \n",
            " 1    746\n",
            "0    254\n",
            "Name: Y, dtype: int64\n",
            "Medicine or not\n",
            " 1    436\n",
            "2    393\n",
            "0    171\n",
            "Name: X, dtype: int64\n",
            "Healthy or not \n",
            " 1    728\n",
            "0    272\n",
            "Name: Z, dtype: int64\n"
          ]
        }
      ]
    },
    {
      "cell_type": "markdown",
      "metadata": {
        "id": "yw6Ia2dFejhR"
      },
      "source": [
        " Implement and document a Python program that reads the given dataset and automatically \n",
        "computes the intervention’s probability P(Y | do(X)) for all the possible values of X and Y. [40 \n",
        "points]"
      ],
      "id": "yw6Ia2dFejhR"
    }
  ]
}